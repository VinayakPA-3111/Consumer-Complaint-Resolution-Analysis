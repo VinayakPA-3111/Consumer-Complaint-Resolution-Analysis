{
 "cells": [
  {
   "cell_type": "markdown",
   "metadata": {
    "id": "KPpvecwEpopQ"
   },
   "source": [
    "# Mini Project 2–ConsumerComplaintResolutionAnalysisUsing Python"
   ]
  },
  {
   "cell_type": "markdown",
   "metadata": {},
   "source": [
    "<h3>Scenario:</h3> Product review is the most basic function/factor in resolving customer issues and increasing the sales growth of any product. We can understand their mindset toward our service without asking each customer.<br>When consumers are unhappy with some aspect of a business, they reach out to customer service and might raise a complaint. Companies try their best to resolve the complaints that they receive. However, it might not always be possible to appease every customer.<br>So Here, we will analyze data, and with the help of different algorithms, we are finding the best classification of customer category so that we can predict our test data."
   ]
  },
  {
   "cell_type": "markdown",
   "metadata": {},
   "source": [
    "<h3>Objective:</h3> Use Python libraries such as Pandas for data operations, Seaborn and Matplotlib for data visualization and EDA tasks, Sklearn for model building and performance visualization, and based on the best model,make a prediction for the test file and save the output.<br><br>The main objective is to predict whether our customer is disputed or not with the help of given data."
   ]
  },
  {
   "cell_type": "markdown",
   "metadata": {},
   "source": [
    "<h3>Dataset description:</h3>Customers faced some issues and tried to report their problems to customer care. <br>\n",
    "\n",
    "<ul>\n",
    "    <li><b>Dispute:</b> This is our target variable based on train data; wehave two groups, one with a dispute with the bank and another don’t have any issue with the bank.</li>\n",
    "    <li><b>Date received:</b> The day complaint was received.</li>\n",
    "    <li><b>Product:</b> different products offered by the bank (credit cards, debit cards, different types of transaction methods, accounts, locker services, and money-related)</li>\n",
    "    <li><b>Sub-product:</b> loan, insurance, other mortgage options</li>\n",
    "    <li><b>Issue:</b> Complaint of customers</li>\n",
    "    <li><b>Company public response:</b> Company’s response to consumer complaint</li> \n",
    "    <li><b>Company:</b> Company name</li>\n",
    "    <li><b>State:</b> State where the customer lives (different state of USA)</li>\n",
    "    <li><b>ZIP code:</b> Where the customer lives</li>\n",
    "    <li><b>Submitted via:</b> Register complaints via different platforms (online web, phone, referral, fax, post mail)</li> \n",
    "    <li><b>Date sent to company:</b> The day complaint was registered </li>\n",
    "    <li><b>Timely response?:</b> yes/no</li>\n",
    "    <li><u><b>Consumer disputed?:</b> yes/no (target variable)</li></u>\n",
    "    <li><b>Complaint ID:</b> unique to each consumer </li>"
   ]
  },
  {
   "cell_type": "markdown",
   "metadata": {
    "id": "qdiFBmcBpopt"
   },
   "source": [
    "Import required libraries"
   ]
  },
  {
   "cell_type": "code",
   "execution_count": 1,
   "metadata": {
    "id": "nRvORrhJpopv"
   },
   "outputs": [
    {
     "name": "stdout",
     "output_type": "stream",
     "text": [
      "\u001b[33mWARNING: Ignoring invalid distribution -andas (/Users/jagadishvarma/opt/anaconda3/lib/python3.8/site-packages)\u001b[0m\u001b[33m\n",
      "\u001b[0m\u001b[33mWARNING: Ignoring invalid distribution -andas (/Users/jagadishvarma/opt/anaconda3/lib/python3.8/site-packages)\u001b[0m\u001b[33m\n",
      "\u001b[0mRequirement already satisfied: nltk in /Users/jagadishvarma/opt/anaconda3/lib/python3.8/site-packages (3.6.1)\n",
      "Requirement already satisfied: click in /Users/jagadishvarma/opt/anaconda3/lib/python3.8/site-packages (from nltk) (7.1.2)\n",
      "Requirement already satisfied: joblib in /Users/jagadishvarma/opt/anaconda3/lib/python3.8/site-packages (from nltk) (1.0.1)\n",
      "Requirement already satisfied: regex in /Users/jagadishvarma/opt/anaconda3/lib/python3.8/site-packages (from nltk) (2021.4.4)\n",
      "Requirement already satisfied: tqdm in /Users/jagadishvarma/opt/anaconda3/lib/python3.8/site-packages (from nltk) (4.59.0)\n",
      "\u001b[33mWARNING: Ignoring invalid distribution -andas (/Users/jagadishvarma/opt/anaconda3/lib/python3.8/site-packages)\u001b[0m\u001b[33m\n",
      "\u001b[0m\u001b[33mWARNING: Ignoring invalid distribution -andas (/Users/jagadishvarma/opt/anaconda3/lib/python3.8/site-packages)\u001b[0m\u001b[33m\n",
      "\u001b[0m\u001b[33mWARNING: Ignoring invalid distribution -andas (/Users/jagadishvarma/opt/anaconda3/lib/python3.8/site-packages)\u001b[0m\u001b[33m\n",
      "\u001b[0m\u001b[33mWARNING: Ignoring invalid distribution -andas (/Users/jagadishvarma/opt/anaconda3/lib/python3.8/site-packages)\u001b[0m\u001b[33m\n",
      "\u001b[0m"
     ]
    },
    {
     "name": "stderr",
     "output_type": "stream",
     "text": [
      "[nltk_data] Downloading package stopwords to\n",
      "[nltk_data]     /Users/jagadishvarma/nltk_data...\n",
      "[nltk_data]   Package stopwords is already up-to-date!\n",
      "[nltk_data] Downloading package punkt to\n",
      "[nltk_data]     /Users/jagadishvarma/nltk_data...\n",
      "[nltk_data]   Package punkt is already up-to-date!\n",
      "[nltk_data] Downloading package wordnet to\n",
      "[nltk_data]     /Users/jagadishvarma/nltk_data...\n",
      "[nltk_data]   Package wordnet is already up-to-date!\n"
     ]
    }
   ],
   "source": [
    "import pandas as pd\n",
    "import numpy as np\n",
    "import matplotlib.pyplot as plt\n",
    "import seaborn as sns\n",
    "\n",
    "!pip install nltk \n",
    "import nltk\n",
    "from nltk.tokenize import wordpunct_tokenize\n",
    "import string\n",
    "nltk.download('stopwords')\n",
    "nltk.download('punkt')\n",
    "from nltk.corpus import stopwords\n",
    "from nltk.stem import WordNetLemmatizer\n",
    "from nltk.stem import PorterStemmer\n",
    "nltk.download('wordnet')\n",
    "from sklearn.feature_extraction.text import TfidfVectorizer\n",
    "\n",
    "from sklearn.linear_model import LogisticRegression\n",
    "from sklearn.tree import DecisionTreeClassifier\n",
    "from sklearn.neighbors import KNeighborsClassifier\n",
    "from sklearn.ensemble import RandomForestClassifier\n",
    "from sklearn.ensemble import AdaBoostClassifier\n",
    "from sklearn.ensemble import GradientBoostingClassifier\n",
    "import xgboost\n",
    "from xgboost import XGBClassifier\n",
    "from sklearn.metrics import accuracy_score"
   ]
  },
  {
   "cell_type": "markdown",
   "metadata": {
    "id": "9psaFBmPpop0"
   },
   "source": [
    "Load given datasets"
   ]
  },
  {
   "cell_type": "code",
   "execution_count": 2,
   "metadata": {
    "id": "q3hRmG1Zpop3"
   },
   "outputs": [],
   "source": [
    "#Read the Data from the Given csv files.\n",
    "train=pd.read_csv('Consumer_Complaints_train.csv')\n",
    "test=pd.read_csv('Consumer_Complaints_test.csv')"
   ]
  },
  {
   "cell_type": "markdown",
   "metadata": {
    "id": "Xp8W3eXcpop5"
   },
   "source": [
    "Print top 5 records of train dataset"
   ]
  },
  {
   "cell_type": "code",
   "execution_count": 3,
   "metadata": {
    "id": "w1b67V24pop6"
   },
   "outputs": [
    {
     "data": {
      "text/html": [
       "<div>\n",
       "<style scoped>\n",
       "    .dataframe tbody tr th:only-of-type {\n",
       "        vertical-align: middle;\n",
       "    }\n",
       "\n",
       "    .dataframe tbody tr th {\n",
       "        vertical-align: top;\n",
       "    }\n",
       "\n",
       "    .dataframe thead th {\n",
       "        text-align: right;\n",
       "    }\n",
       "</style>\n",
       "<table border=\"1\" class=\"dataframe\">\n",
       "  <thead>\n",
       "    <tr style=\"text-align: right;\">\n",
       "      <th></th>\n",
       "      <th>Date received</th>\n",
       "      <th>Product</th>\n",
       "      <th>Sub-product</th>\n",
       "      <th>Issue</th>\n",
       "      <th>Sub-issue</th>\n",
       "      <th>Consumer complaint narrative</th>\n",
       "      <th>Company public response</th>\n",
       "      <th>Company</th>\n",
       "      <th>State</th>\n",
       "      <th>ZIP code</th>\n",
       "      <th>Tags</th>\n",
       "      <th>Consumer consent provided?</th>\n",
       "      <th>Submitted via</th>\n",
       "      <th>Date sent to company</th>\n",
       "      <th>Company response to consumer</th>\n",
       "      <th>Timely response?</th>\n",
       "      <th>Consumer disputed?</th>\n",
       "      <th>Complaint ID</th>\n",
       "    </tr>\n",
       "  </thead>\n",
       "  <tbody>\n",
       "    <tr>\n",
       "      <th>0</th>\n",
       "      <td>2015-10-14</td>\n",
       "      <td>Credit reporting</td>\n",
       "      <td>NaN</td>\n",
       "      <td>Incorrect information on credit report</td>\n",
       "      <td>Information is not mine</td>\n",
       "      <td>NaN</td>\n",
       "      <td>NaN</td>\n",
       "      <td>Equifax</td>\n",
       "      <td>GA</td>\n",
       "      <td>30134</td>\n",
       "      <td>NaN</td>\n",
       "      <td>Consent not provided</td>\n",
       "      <td>Web</td>\n",
       "      <td>2015-10-14</td>\n",
       "      <td>Closed with explanation</td>\n",
       "      <td>Yes</td>\n",
       "      <td>No</td>\n",
       "      <td>1605653</td>\n",
       "    </tr>\n",
       "    <tr>\n",
       "      <th>1</th>\n",
       "      <td>2015-04-26</td>\n",
       "      <td>Bank account or service</td>\n",
       "      <td>Other bank product/service</td>\n",
       "      <td>Deposits and withdrawals</td>\n",
       "      <td>NaN</td>\n",
       "      <td>RE : XXXX XXXX XXXX-PRIVILEGED AND CONFIDENTIA...</td>\n",
       "      <td>NaN</td>\n",
       "      <td>Wells Fargo &amp; Company</td>\n",
       "      <td>GA</td>\n",
       "      <td>319XX</td>\n",
       "      <td>NaN</td>\n",
       "      <td>Consent provided</td>\n",
       "      <td>Web</td>\n",
       "      <td>2015-04-26</td>\n",
       "      <td>Closed with explanation</td>\n",
       "      <td>Yes</td>\n",
       "      <td>Yes</td>\n",
       "      <td>1347613</td>\n",
       "    </tr>\n",
       "    <tr>\n",
       "      <th>2</th>\n",
       "      <td>2013-12-20</td>\n",
       "      <td>Credit card</td>\n",
       "      <td>NaN</td>\n",
       "      <td>Other</td>\n",
       "      <td>NaN</td>\n",
       "      <td>NaN</td>\n",
       "      <td>NaN</td>\n",
       "      <td>Citibank</td>\n",
       "      <td>SC</td>\n",
       "      <td>29203</td>\n",
       "      <td>NaN</td>\n",
       "      <td>NaN</td>\n",
       "      <td>Phone</td>\n",
       "      <td>2014-01-03</td>\n",
       "      <td>Closed with non-monetary relief</td>\n",
       "      <td>Yes</td>\n",
       "      <td>No</td>\n",
       "      <td>640394</td>\n",
       "    </tr>\n",
       "    <tr>\n",
       "      <th>3</th>\n",
       "      <td>2016-03-03</td>\n",
       "      <td>Debt collection</td>\n",
       "      <td>Other (i.e. phone, health club, etc.)</td>\n",
       "      <td>Disclosure verification of debt</td>\n",
       "      <td>Not given enough info to verify debt</td>\n",
       "      <td>NaN</td>\n",
       "      <td>Company has responded to the consumer and the ...</td>\n",
       "      <td>FAIR COLLECTIONS &amp; OUTSOURCING, INC.</td>\n",
       "      <td>OH</td>\n",
       "      <td>43082</td>\n",
       "      <td>NaN</td>\n",
       "      <td>NaN</td>\n",
       "      <td>Referral</td>\n",
       "      <td>2016-03-04</td>\n",
       "      <td>Closed with explanation</td>\n",
       "      <td>Yes</td>\n",
       "      <td>No</td>\n",
       "      <td>1815134</td>\n",
       "    </tr>\n",
       "    <tr>\n",
       "      <th>4</th>\n",
       "      <td>2015-01-30</td>\n",
       "      <td>Debt collection</td>\n",
       "      <td>Medical</td>\n",
       "      <td>Disclosure verification of debt</td>\n",
       "      <td>Not given enough info to verify debt</td>\n",
       "      <td>NaN</td>\n",
       "      <td>NaN</td>\n",
       "      <td>HCFS Health Care Financial Services, Inc.</td>\n",
       "      <td>CA</td>\n",
       "      <td>90036</td>\n",
       "      <td>NaN</td>\n",
       "      <td>NaN</td>\n",
       "      <td>Web</td>\n",
       "      <td>2015-01-30</td>\n",
       "      <td>Closed with explanation</td>\n",
       "      <td>Yes</td>\n",
       "      <td>Yes</td>\n",
       "      <td>1218613</td>\n",
       "    </tr>\n",
       "  </tbody>\n",
       "</table>\n",
       "</div>"
      ],
      "text/plain": [
       "  Date received                  Product  \\\n",
       "0    2015-10-14         Credit reporting   \n",
       "1    2015-04-26  Bank account or service   \n",
       "2    2013-12-20              Credit card   \n",
       "3    2016-03-03          Debt collection   \n",
       "4    2015-01-30          Debt collection   \n",
       "\n",
       "                             Sub-product  \\\n",
       "0                                    NaN   \n",
       "1             Other bank product/service   \n",
       "2                                    NaN   \n",
       "3  Other (i.e. phone, health club, etc.)   \n",
       "4                                Medical   \n",
       "\n",
       "                                    Issue  \\\n",
       "0  Incorrect information on credit report   \n",
       "1                Deposits and withdrawals   \n",
       "2                                   Other   \n",
       "3         Disclosure verification of debt   \n",
       "4         Disclosure verification of debt   \n",
       "\n",
       "                              Sub-issue  \\\n",
       "0               Information is not mine   \n",
       "1                                   NaN   \n",
       "2                                   NaN   \n",
       "3  Not given enough info to verify debt   \n",
       "4  Not given enough info to verify debt   \n",
       "\n",
       "                        Consumer complaint narrative  \\\n",
       "0                                                NaN   \n",
       "1  RE : XXXX XXXX XXXX-PRIVILEGED AND CONFIDENTIA...   \n",
       "2                                                NaN   \n",
       "3                                                NaN   \n",
       "4                                                NaN   \n",
       "\n",
       "                             Company public response  \\\n",
       "0                                                NaN   \n",
       "1                                                NaN   \n",
       "2                                                NaN   \n",
       "3  Company has responded to the consumer and the ...   \n",
       "4                                                NaN   \n",
       "\n",
       "                                     Company State ZIP code Tags  \\\n",
       "0                                    Equifax    GA    30134  NaN   \n",
       "1                      Wells Fargo & Company    GA    319XX  NaN   \n",
       "2                                   Citibank    SC    29203  NaN   \n",
       "3       FAIR COLLECTIONS & OUTSOURCING, INC.    OH    43082  NaN   \n",
       "4  HCFS Health Care Financial Services, Inc.    CA    90036  NaN   \n",
       "\n",
       "  Consumer consent provided? Submitted via Date sent to company  \\\n",
       "0       Consent not provided           Web           2015-10-14   \n",
       "1           Consent provided           Web           2015-04-26   \n",
       "2                        NaN         Phone           2014-01-03   \n",
       "3                        NaN      Referral           2016-03-04   \n",
       "4                        NaN           Web           2015-01-30   \n",
       "\n",
       "      Company response to consumer Timely response? Consumer disputed?  \\\n",
       "0          Closed with explanation              Yes                 No   \n",
       "1          Closed with explanation              Yes                Yes   \n",
       "2  Closed with non-monetary relief              Yes                 No   \n",
       "3          Closed with explanation              Yes                 No   \n",
       "4          Closed with explanation              Yes                Yes   \n",
       "\n",
       "   Complaint ID  \n",
       "0       1605653  \n",
       "1       1347613  \n",
       "2        640394  \n",
       "3       1815134  \n",
       "4       1218613  "
      ]
     },
     "execution_count": 3,
     "metadata": {},
     "output_type": "execute_result"
    }
   ],
   "source": [
    "train.head()"
   ]
  },
  {
   "cell_type": "markdown",
   "metadata": {
    "id": "vy0goz35pop7"
   },
   "source": [
    "Print top 5 records of test dataset"
   ]
  },
  {
   "cell_type": "code",
   "execution_count": 4,
   "metadata": {
    "id": "M1GqR9Agpop9"
   },
   "outputs": [
    {
     "data": {
      "text/html": [
       "<div>\n",
       "<style scoped>\n",
       "    .dataframe tbody tr th:only-of-type {\n",
       "        vertical-align: middle;\n",
       "    }\n",
       "\n",
       "    .dataframe tbody tr th {\n",
       "        vertical-align: top;\n",
       "    }\n",
       "\n",
       "    .dataframe thead th {\n",
       "        text-align: right;\n",
       "    }\n",
       "</style>\n",
       "<table border=\"1\" class=\"dataframe\">\n",
       "  <thead>\n",
       "    <tr style=\"text-align: right;\">\n",
       "      <th></th>\n",
       "      <th>Date received</th>\n",
       "      <th>Product</th>\n",
       "      <th>Sub-product</th>\n",
       "      <th>Issue</th>\n",
       "      <th>Sub-issue</th>\n",
       "      <th>Consumer complaint narrative</th>\n",
       "      <th>Company public response</th>\n",
       "      <th>Company</th>\n",
       "      <th>State</th>\n",
       "      <th>ZIP code</th>\n",
       "      <th>Tags</th>\n",
       "      <th>Consumer consent provided?</th>\n",
       "      <th>Submitted via</th>\n",
       "      <th>Date sent to company</th>\n",
       "      <th>Company response to consumer</th>\n",
       "      <th>Timely response?</th>\n",
       "      <th>Complaint ID</th>\n",
       "    </tr>\n",
       "  </thead>\n",
       "  <tbody>\n",
       "    <tr>\n",
       "      <th>0</th>\n",
       "      <td>2015-01-17</td>\n",
       "      <td>Credit card</td>\n",
       "      <td>NaN</td>\n",
       "      <td>Customer service / Customer relations</td>\n",
       "      <td>NaN</td>\n",
       "      <td>NaN</td>\n",
       "      <td>NaN</td>\n",
       "      <td>Citibank</td>\n",
       "      <td>TX</td>\n",
       "      <td>75241</td>\n",
       "      <td>NaN</td>\n",
       "      <td>NaN</td>\n",
       "      <td>Web</td>\n",
       "      <td>2015-01-17</td>\n",
       "      <td>Closed with monetary relief</td>\n",
       "      <td>Yes</td>\n",
       "      <td>1198133</td>\n",
       "    </tr>\n",
       "    <tr>\n",
       "      <th>1</th>\n",
       "      <td>2016-06-22</td>\n",
       "      <td>Consumer Loan</td>\n",
       "      <td>Title loan</td>\n",
       "      <td>Payment to acct not credited</td>\n",
       "      <td>NaN</td>\n",
       "      <td>NaN</td>\n",
       "      <td>Company believes it acted appropriately as aut...</td>\n",
       "      <td>Larsen MacColl Partners II, L.P.</td>\n",
       "      <td>TX</td>\n",
       "      <td>76548</td>\n",
       "      <td>Servicemember</td>\n",
       "      <td>NaN</td>\n",
       "      <td>Phone</td>\n",
       "      <td>2016-06-22</td>\n",
       "      <td>Closed with explanation</td>\n",
       "      <td>Yes</td>\n",
       "      <td>1979989</td>\n",
       "    </tr>\n",
       "    <tr>\n",
       "      <th>2</th>\n",
       "      <td>2015-09-04</td>\n",
       "      <td>Credit card</td>\n",
       "      <td>NaN</td>\n",
       "      <td>Credit line increase/decrease</td>\n",
       "      <td>NaN</td>\n",
       "      <td>I WANT TO REQUEST A CREDIT LINE INCREASE OF XX...</td>\n",
       "      <td>NaN</td>\n",
       "      <td>Capital One</td>\n",
       "      <td>NC</td>\n",
       "      <td>271XX</td>\n",
       "      <td>NaN</td>\n",
       "      <td>Consent provided</td>\n",
       "      <td>Web</td>\n",
       "      <td>2015-09-04</td>\n",
       "      <td>Closed with explanation</td>\n",
       "      <td>Yes</td>\n",
       "      <td>1552090</td>\n",
       "    </tr>\n",
       "    <tr>\n",
       "      <th>3</th>\n",
       "      <td>2016-05-17</td>\n",
       "      <td>Consumer Loan</td>\n",
       "      <td>Installment loan</td>\n",
       "      <td>Problems when you are unable to pay</td>\n",
       "      <td>NaN</td>\n",
       "      <td>I have asked One Main Financial not to call my...</td>\n",
       "      <td>NaN</td>\n",
       "      <td>OneMain Financial Holdings, LLC</td>\n",
       "      <td>MO</td>\n",
       "      <td>634XX</td>\n",
       "      <td>NaN</td>\n",
       "      <td>Consent provided</td>\n",
       "      <td>Web</td>\n",
       "      <td>2016-05-20</td>\n",
       "      <td>Closed with non-monetary relief</td>\n",
       "      <td>Yes</td>\n",
       "      <td>1929306</td>\n",
       "    </tr>\n",
       "    <tr>\n",
       "      <th>4</th>\n",
       "      <td>2016-07-07</td>\n",
       "      <td>Debt collection</td>\n",
       "      <td>Other (i.e. phone, health club, etc.)</td>\n",
       "      <td>Improper contact or sharing of info</td>\n",
       "      <td>Contacted employer after asked not to</td>\n",
       "      <td>I have received several calls from a XXXX XXXX...</td>\n",
       "      <td>Company has responded to the consumer and the ...</td>\n",
       "      <td>GMA Investments, LLC</td>\n",
       "      <td>SC</td>\n",
       "      <td>296XX</td>\n",
       "      <td>NaN</td>\n",
       "      <td>Consent provided</td>\n",
       "      <td>Web</td>\n",
       "      <td>2016-07-07</td>\n",
       "      <td>Closed with explanation</td>\n",
       "      <td>Yes</td>\n",
       "      <td>2001667</td>\n",
       "    </tr>\n",
       "  </tbody>\n",
       "</table>\n",
       "</div>"
      ],
      "text/plain": [
       "  Date received          Product                            Sub-product  \\\n",
       "0    2015-01-17      Credit card                                    NaN   \n",
       "1    2016-06-22    Consumer Loan                             Title loan   \n",
       "2    2015-09-04      Credit card                                    NaN   \n",
       "3    2016-05-17    Consumer Loan                       Installment loan   \n",
       "4    2016-07-07  Debt collection  Other (i.e. phone, health club, etc.)   \n",
       "\n",
       "                                   Issue  \\\n",
       "0  Customer service / Customer relations   \n",
       "1           Payment to acct not credited   \n",
       "2          Credit line increase/decrease   \n",
       "3    Problems when you are unable to pay   \n",
       "4    Improper contact or sharing of info   \n",
       "\n",
       "                               Sub-issue  \\\n",
       "0                                    NaN   \n",
       "1                                    NaN   \n",
       "2                                    NaN   \n",
       "3                                    NaN   \n",
       "4  Contacted employer after asked not to   \n",
       "\n",
       "                        Consumer complaint narrative  \\\n",
       "0                                                NaN   \n",
       "1                                                NaN   \n",
       "2  I WANT TO REQUEST A CREDIT LINE INCREASE OF XX...   \n",
       "3  I have asked One Main Financial not to call my...   \n",
       "4  I have received several calls from a XXXX XXXX...   \n",
       "\n",
       "                             Company public response  \\\n",
       "0                                                NaN   \n",
       "1  Company believes it acted appropriately as aut...   \n",
       "2                                                NaN   \n",
       "3                                                NaN   \n",
       "4  Company has responded to the consumer and the ...   \n",
       "\n",
       "                            Company State ZIP code           Tags  \\\n",
       "0                          Citibank    TX    75241            NaN   \n",
       "1  Larsen MacColl Partners II, L.P.    TX    76548  Servicemember   \n",
       "2                       Capital One    NC    271XX            NaN   \n",
       "3   OneMain Financial Holdings, LLC    MO    634XX            NaN   \n",
       "4              GMA Investments, LLC    SC    296XX            NaN   \n",
       "\n",
       "  Consumer consent provided? Submitted via Date sent to company  \\\n",
       "0                        NaN           Web           2015-01-17   \n",
       "1                        NaN         Phone           2016-06-22   \n",
       "2           Consent provided           Web           2015-09-04   \n",
       "3           Consent provided           Web           2016-05-20   \n",
       "4           Consent provided           Web           2016-07-07   \n",
       "\n",
       "      Company response to consumer Timely response?  Complaint ID  \n",
       "0      Closed with monetary relief              Yes       1198133  \n",
       "1          Closed with explanation              Yes       1979989  \n",
       "2          Closed with explanation              Yes       1552090  \n",
       "3  Closed with non-monetary relief              Yes       1929306  \n",
       "4          Closed with explanation              Yes       2001667  "
      ]
     },
     "execution_count": 4,
     "metadata": {},
     "output_type": "execute_result"
    }
   ],
   "source": [
    "test.head()"
   ]
  },
  {
   "cell_type": "markdown",
   "metadata": {
    "id": "KzRBJoR7pop-"
   },
   "source": [
    "**Note: Please note that do all given tasks for test and train both datasets.**"
   ]
  },
  {
   "cell_type": "markdown",
   "metadata": {
    "id": "pbq7pvmGpop_"
   },
   "source": [
    "Print shape of train and test datasets "
   ]
  },
  {
   "cell_type": "code",
   "execution_count": 5,
   "metadata": {
    "id": "eFPXZRfMpoqA"
   },
   "outputs": [
    {
     "name": "stdout",
     "output_type": "stream",
     "text": [
      "Train : (358810, 18)\n",
      "Test : (119606, 17)\n"
     ]
    }
   ],
   "source": [
    "print(\"Train :\",train.shape)\n",
    "print(\"Test :\",test.shape)"
   ]
  },
  {
   "cell_type": "markdown",
   "metadata": {
    "id": "7oPnYhOapoqA"
   },
   "source": [
    "Print columns of train and test datasets"
   ]
  },
  {
   "cell_type": "code",
   "execution_count": 6,
   "metadata": {
    "id": "iPzUL5fUpoqB"
   },
   "outputs": [
    {
     "name": "stdout",
     "output_type": "stream",
     "text": [
      "Train : Index(['Date received', 'Product', 'Sub-product', 'Issue', 'Sub-issue',\n",
      "       'Consumer complaint narrative', 'Company public response', 'Company',\n",
      "       'State', 'ZIP code', 'Tags', 'Consumer consent provided?',\n",
      "       'Submitted via', 'Date sent to company', 'Company response to consumer',\n",
      "       'Timely response?', 'Consumer disputed?', 'Complaint ID'],\n",
      "      dtype='object')\n",
      "\n",
      "Test : Index(['Date received', 'Product', 'Sub-product', 'Issue', 'Sub-issue',\n",
      "       'Consumer complaint narrative', 'Company public response', 'Company',\n",
      "       'State', 'ZIP code', 'Tags', 'Consumer consent provided?',\n",
      "       'Submitted via', 'Date sent to company', 'Company response to consumer',\n",
      "       'Timely response?', 'Complaint ID'],\n",
      "      dtype='object')\n"
     ]
    }
   ],
   "source": [
    "print(\"Train :\",train.columns)\n",
    "print(\"\\nTest :\",test.columns)"
   ]
  },
  {
   "cell_type": "markdown",
   "metadata": {
    "id": "0HiyNNaKpoqC"
   },
   "source": [
    "Check data type for both datasets"
   ]
  },
  {
   "cell_type": "code",
   "execution_count": 7,
   "metadata": {
    "id": "vxGdAynspoqC"
   },
   "outputs": [
    {
     "name": "stdout",
     "output_type": "stream",
     "text": [
      "Train :\n",
      " Date received                   object\n",
      "Product                         object\n",
      "Sub-product                     object\n",
      "Issue                           object\n",
      "Sub-issue                       object\n",
      "Consumer complaint narrative    object\n",
      "Company public response         object\n",
      "Company                         object\n",
      "State                           object\n",
      "ZIP code                        object\n",
      "Tags                            object\n",
      "Consumer consent provided?      object\n",
      "Submitted via                   object\n",
      "Date sent to company            object\n",
      "Company response to consumer    object\n",
      "Timely response?                object\n",
      "Consumer disputed?              object\n",
      "Complaint ID                     int64\n",
      "dtype: object\n",
      "\n",
      "Test :\n",
      " Date received                   object\n",
      "Product                         object\n",
      "Sub-product                     object\n",
      "Issue                           object\n",
      "Sub-issue                       object\n",
      "Consumer complaint narrative    object\n",
      "Company public response         object\n",
      "Company                         object\n",
      "State                           object\n",
      "ZIP code                        object\n",
      "Tags                            object\n",
      "Consumer consent provided?      object\n",
      "Submitted via                   object\n",
      "Date sent to company            object\n",
      "Company response to consumer    object\n",
      "Timely response?                object\n",
      "Complaint ID                     int64\n",
      "dtype: object\n"
     ]
    }
   ],
   "source": [
    "print(\"Train :\\n\",train.dtypes)\n",
    "print(\"\\nTest :\\n\",test.dtypes)"
   ]
  },
  {
   "cell_type": "markdown",
   "metadata": {
    "id": "bLuxvPTupoqD"
   },
   "source": [
    "Print missing values in percentage"
   ]
  },
  {
   "cell_type": "code",
   "execution_count": 8,
   "metadata": {
    "id": "MGG5jiynpoqD"
   },
   "outputs": [
    {
     "name": "stdout",
     "output_type": "stream",
     "text": [
      "Train Dataset :\n",
      " Date received                    0.00\n",
      "Product                          0.00\n",
      "Sub-product                     28.93\n",
      "Issue                            0.00\n",
      "Sub-issue                       61.14\n",
      "Consumer complaint narrative    84.34\n",
      "Company public response         81.07\n",
      "Company                          0.00\n",
      "State                            0.81\n",
      "ZIP code                         0.81\n",
      "Tags                            86.00\n",
      "Consumer consent provided?      71.69\n",
      "Submitted via                    0.00\n",
      "Date sent to company             0.00\n",
      "Company response to consumer     0.00\n",
      "Timely response?                 0.00\n",
      "Consumer disputed?               0.00\n",
      "Complaint ID                     0.00\n",
      "dtype: float64\n",
      "\n",
      "Test Dataset :\n",
      " Date received                    0.00\n",
      "Product                          0.00\n",
      "Sub-product                      9.67\n",
      "Issue                            0.00\n",
      "Sub-issue                       20.41\n",
      "Consumer complaint narrative    28.06\n",
      "Company public response         27.07\n",
      "Company                          0.00\n",
      "State                            0.26\n",
      "ZIP code                         0.26\n",
      "Tags                            28.60\n",
      "Consumer consent provided?      23.88\n",
      "Submitted via                    0.00\n",
      "Date sent to company             0.00\n",
      "Company response to consumer     0.00\n",
      "Timely response?                 0.00\n",
      "Complaint ID                     0.00\n",
      "dtype: float64\n"
     ]
    }
   ],
   "source": [
    "print(\"Train Dataset :\\n\",round(train.isnull().sum()/358810*100,2))\n",
    "print(\"\\nTest Dataset :\\n\",round(test.isnull().sum()/358810*100,2))"
   ]
  },
  {
   "cell_type": "markdown",
   "metadata": {
    "id": "z9mdQc6npoqE"
   },
   "source": [
    "Drop columns where more than 25% of the data are missing."
   ]
  },
  {
   "cell_type": "code",
   "execution_count": 9,
   "metadata": {
    "id": "YJhBaNOqpoqG"
   },
   "outputs": [],
   "source": [
    "train.drop(['Sub-product','Sub-issue','Consumer complaint narrative','Company public response','Tags','Consumer consent provided?'],axis=1,inplace=True)\n",
    "test.drop(['Sub-product','Sub-issue','Consumer complaint narrative','Company public response','Tags','Consumer consent provided?'],axis=1,inplace=True)"
   ]
  },
  {
   "cell_type": "markdown",
   "metadata": {
    "id": "PkddP08zpoqI"
   },
   "source": [
    "Extract Date, Month, and Year from the \"Date Received\" Column and create new fields for year, month, and day.\n",
    "\n",
    "like, df_train['Year_Received'] = df_train['Date received']........(logic)"
   ]
  },
  {
   "cell_type": "code",
   "execution_count": 10,
   "metadata": {
    "id": "B-f5_sc8poqM"
   },
   "outputs": [],
   "source": [
    "from datetime import date as dt\n",
    "#train dataset\n",
    "daterec_train=train['Date received']\n",
    "train['Year'] = pd.DatetimeIndex(train['Date received']).year\n",
    "train['Month'] = pd.DatetimeIndex(train['Date received']).month\n",
    "train['Day'] = pd.DatetimeIndex(train['Date received']).day\n",
    "\n",
    "#test dataset\n",
    "daterec_test=test['Date received']\n",
    "test['Year'] = pd.DatetimeIndex(test['Date received']).year\n",
    "test['Month'] = pd.DatetimeIndex(test['Date received']).month\n",
    "test['Day'] = pd.DatetimeIndex(test['Date received']).day"
   ]
  },
  {
   "cell_type": "markdown",
   "metadata": {
    "id": "bDzo8Q5HpoqN"
   },
   "source": [
    "Convert dates from object type to datetime type"
   ]
  },
  {
   "cell_type": "code",
   "execution_count": 11,
   "metadata": {
    "id": "D-rUlAE3poqN"
   },
   "outputs": [],
   "source": [
    "train[['Date sent to company','Date received']]=train[['Date sent to company','Date received']].apply(pd.to_datetime)\n",
    "\n",
    "test[['Date sent to company','Date received']]=test[['Date sent to company','Date received']].apply(pd.to_datetime)"
   ]
  },
  {
   "cell_type": "markdown",
   "metadata": {
    "id": "C7ZhXjgWpoqO"
   },
   "source": [
    "Calculate the number of days the complaint was with the company\n",
    "\n",
    "create new field with help given logic<br>\n",
    "Like, Days held = Date sent to company - Date received"
   ]
  },
  {
   "cell_type": "code",
   "execution_count": 12,
   "metadata": {
    "id": "1tZ5kgp5poqO"
   },
   "outputs": [],
   "source": [
    "train['Days held']=(train['Date sent to company']-train['Date received']).dt.days\n",
    "test['Days held']=(test['Date sent to company']-test['Date received']).dt.days"
   ]
  },
  {
   "cell_type": "markdown",
   "metadata": {
    "id": "NU-KOCtopoqO"
   },
   "source": [
    "Convert \"Days Held\" to Int(above column)"
   ]
  },
  {
   "cell_type": "code",
   "execution_count": 13,
   "metadata": {
    "id": "mYixr98bpoqP"
   },
   "outputs": [],
   "source": [
    "train['Days held']=train['Days held'].astype(int)\n",
    "test['Days held']=test['Days held'].astype(int)"
   ]
  },
  {
   "cell_type": "markdown",
   "metadata": {
    "id": "0HQaa_05poqP"
   },
   "source": [
    "Drop \"Date Received\",\"Date Sent to Company\",\"ZIP Code\", \"Complaint ID\""
   ]
  },
  {
   "cell_type": "code",
   "execution_count": 14,
   "metadata": {
    "id": "T9WmzyvmpoqQ"
   },
   "outputs": [],
   "source": [
    "train.drop(['Date received','Date sent to company','ZIP code','Complaint ID'],axis=1,inplace=True)\n",
    "test.drop(['Date received','Date sent to company','ZIP code','Complaint ID'],axis=1,inplace=True)"
   ]
  },
  {
   "cell_type": "markdown",
   "metadata": {
    "id": "fXrMeXGGpoqQ"
   },
   "source": [
    "Impute null values in \"State\" by Mode \n",
    "(find mode and replace nan value)"
   ]
  },
  {
   "cell_type": "code",
   "execution_count": 15,
   "metadata": {
    "id": "2E50Tq6qpoqQ"
   },
   "outputs": [
    {
     "name": "stdout",
     "output_type": "stream",
     "text": [
      "Train : 0    CA\n",
      "dtype: object\n",
      "Test : 0    CA\n",
      "dtype: object\n"
     ]
    }
   ],
   "source": [
    "print(\"Train :\",train['State'].mode())\n",
    "print(\"Test :\",test['State'].mode())\n",
    "\n",
    "#Train\n",
    "train['State'].fillna('CA',inplace=True)\n",
    "\n",
    "#Test\n",
    "test['State'].fillna('CA',inplace=True)\n"
   ]
  },
  {
   "cell_type": "markdown",
   "metadata": {
    "id": "TDDfIGddpoqR"
   },
   "source": [
    "Check Missing Values in the dataset"
   ]
  },
  {
   "cell_type": "code",
   "execution_count": 16,
   "metadata": {
    "id": "9lHuVu79poqR"
   },
   "outputs": [
    {
     "name": "stdout",
     "output_type": "stream",
     "text": [
      "Train :\n",
      " Product                         0\n",
      "Issue                           0\n",
      "Company                         0\n",
      "State                           0\n",
      "Submitted via                   0\n",
      "Company response to consumer    0\n",
      "Timely response?                0\n",
      "Consumer disputed?              0\n",
      "Year                            0\n",
      "Month                           0\n",
      "Day                             0\n",
      "Days held                       0\n",
      "dtype: int64\n",
      "\n",
      "Test :\n",
      " Product                         0\n",
      "Issue                           0\n",
      "Company                         0\n",
      "State                           0\n",
      "Submitted via                   0\n",
      "Company response to consumer    0\n",
      "Timely response?                0\n",
      "Year                            0\n",
      "Month                           0\n",
      "Day                             0\n",
      "Days held                       0\n",
      "dtype: int64\n"
     ]
    }
   ],
   "source": [
    "print(\"Train :\\n\",train.isnull().sum())\n",
    "print(\"\\nTest :\\n\",test.isnull().sum())"
   ]
  },
  {
   "cell_type": "markdown",
   "metadata": {
    "id": "M0EPXTRWpoqR"
   },
   "source": [
    "Categorize Days into Weeks with the help of 'Days Received'"
   ]
  },
  {
   "cell_type": "code",
   "execution_count": 17,
   "metadata": {
    "id": "zr7y3qkCpoqS"
   },
   "outputs": [
    {
     "name": "stderr",
     "output_type": "stream",
     "text": [
      "<ipython-input-17-b142f045f968>:1: FutureWarning: weekofyear and week have been deprecated, please use DatetimeIndex.isocalendar().week instead, which returns a Series.  To exactly reproduce the behavior of week and weekofyear and return an Index, you may call pd.Int64Index(idx.isocalendar().week)\n",
      "  train['Week_Received']=pd.DatetimeIndex(daterec_train).week\n",
      "<ipython-input-17-b142f045f968>:2: FutureWarning: weekofyear and week have been deprecated, please use DatetimeIndex.isocalendar().week instead, which returns a Series.  To exactly reproduce the behavior of week and weekofyear and return an Index, you may call pd.Int64Index(idx.isocalendar().week)\n",
      "  test['Week_Received']=pd.DatetimeIndex(daterec_test).week\n"
     ]
    }
   ],
   "source": [
    "train['Week_Received']=pd.DatetimeIndex(daterec_train).week\n",
    "test['Week_Received']=pd.DatetimeIndex(daterec_test).week"
   ]
  },
  {
   "cell_type": "markdown",
   "metadata": {
    "id": "FUZBAfyopoqS"
   },
   "source": [
    "Drop \"Day_Received\" column"
   ]
  },
  {
   "cell_type": "code",
   "execution_count": 18,
   "metadata": {
    "id": "A5ka68OnpoqT"
   },
   "outputs": [],
   "source": [
    "train.drop(['Day'],axis=1,inplace=True)\n",
    "test.drop(['Day'],axis=1,inplace=True)"
   ]
  },
  {
   "cell_type": "markdown",
   "metadata": {
    "id": "tYdZ9SulpoqT"
   },
   "source": [
    "Print head of train and test dataset and observe"
   ]
  },
  {
   "cell_type": "code",
   "execution_count": 19,
   "metadata": {
    "id": "Njal7vDbpoqT"
   },
   "outputs": [
    {
     "data": {
      "text/html": [
       "<div>\n",
       "<style scoped>\n",
       "    .dataframe tbody tr th:only-of-type {\n",
       "        vertical-align: middle;\n",
       "    }\n",
       "\n",
       "    .dataframe tbody tr th {\n",
       "        vertical-align: top;\n",
       "    }\n",
       "\n",
       "    .dataframe thead th {\n",
       "        text-align: right;\n",
       "    }\n",
       "</style>\n",
       "<table border=\"1\" class=\"dataframe\">\n",
       "  <thead>\n",
       "    <tr style=\"text-align: right;\">\n",
       "      <th></th>\n",
       "      <th>Product</th>\n",
       "      <th>Issue</th>\n",
       "      <th>Company</th>\n",
       "      <th>State</th>\n",
       "      <th>Submitted via</th>\n",
       "      <th>Company response to consumer</th>\n",
       "      <th>Timely response?</th>\n",
       "      <th>Consumer disputed?</th>\n",
       "      <th>Year</th>\n",
       "      <th>Month</th>\n",
       "      <th>Days held</th>\n",
       "      <th>Week_Received</th>\n",
       "    </tr>\n",
       "  </thead>\n",
       "  <tbody>\n",
       "    <tr>\n",
       "      <th>0</th>\n",
       "      <td>Credit reporting</td>\n",
       "      <td>Incorrect information on credit report</td>\n",
       "      <td>Equifax</td>\n",
       "      <td>GA</td>\n",
       "      <td>Web</td>\n",
       "      <td>Closed with explanation</td>\n",
       "      <td>Yes</td>\n",
       "      <td>No</td>\n",
       "      <td>2015</td>\n",
       "      <td>10</td>\n",
       "      <td>0</td>\n",
       "      <td>42</td>\n",
       "    </tr>\n",
       "    <tr>\n",
       "      <th>1</th>\n",
       "      <td>Bank account or service</td>\n",
       "      <td>Deposits and withdrawals</td>\n",
       "      <td>Wells Fargo &amp; Company</td>\n",
       "      <td>GA</td>\n",
       "      <td>Web</td>\n",
       "      <td>Closed with explanation</td>\n",
       "      <td>Yes</td>\n",
       "      <td>Yes</td>\n",
       "      <td>2015</td>\n",
       "      <td>4</td>\n",
       "      <td>0</td>\n",
       "      <td>17</td>\n",
       "    </tr>\n",
       "    <tr>\n",
       "      <th>2</th>\n",
       "      <td>Credit card</td>\n",
       "      <td>Other</td>\n",
       "      <td>Citibank</td>\n",
       "      <td>SC</td>\n",
       "      <td>Phone</td>\n",
       "      <td>Closed with non-monetary relief</td>\n",
       "      <td>Yes</td>\n",
       "      <td>No</td>\n",
       "      <td>2013</td>\n",
       "      <td>12</td>\n",
       "      <td>14</td>\n",
       "      <td>51</td>\n",
       "    </tr>\n",
       "    <tr>\n",
       "      <th>3</th>\n",
       "      <td>Debt collection</td>\n",
       "      <td>Disclosure verification of debt</td>\n",
       "      <td>FAIR COLLECTIONS &amp; OUTSOURCING, INC.</td>\n",
       "      <td>OH</td>\n",
       "      <td>Referral</td>\n",
       "      <td>Closed with explanation</td>\n",
       "      <td>Yes</td>\n",
       "      <td>No</td>\n",
       "      <td>2016</td>\n",
       "      <td>3</td>\n",
       "      <td>1</td>\n",
       "      <td>9</td>\n",
       "    </tr>\n",
       "    <tr>\n",
       "      <th>4</th>\n",
       "      <td>Debt collection</td>\n",
       "      <td>Disclosure verification of debt</td>\n",
       "      <td>HCFS Health Care Financial Services, Inc.</td>\n",
       "      <td>CA</td>\n",
       "      <td>Web</td>\n",
       "      <td>Closed with explanation</td>\n",
       "      <td>Yes</td>\n",
       "      <td>Yes</td>\n",
       "      <td>2015</td>\n",
       "      <td>1</td>\n",
       "      <td>0</td>\n",
       "      <td>5</td>\n",
       "    </tr>\n",
       "  </tbody>\n",
       "</table>\n",
       "</div>"
      ],
      "text/plain": [
       "                   Product                                   Issue  \\\n",
       "0         Credit reporting  Incorrect information on credit report   \n",
       "1  Bank account or service                Deposits and withdrawals   \n",
       "2              Credit card                                   Other   \n",
       "3          Debt collection         Disclosure verification of debt   \n",
       "4          Debt collection         Disclosure verification of debt   \n",
       "\n",
       "                                     Company State Submitted via  \\\n",
       "0                                    Equifax    GA           Web   \n",
       "1                      Wells Fargo & Company    GA           Web   \n",
       "2                                   Citibank    SC         Phone   \n",
       "3       FAIR COLLECTIONS & OUTSOURCING, INC.    OH      Referral   \n",
       "4  HCFS Health Care Financial Services, Inc.    CA           Web   \n",
       "\n",
       "      Company response to consumer Timely response? Consumer disputed?  Year  \\\n",
       "0          Closed with explanation              Yes                 No  2015   \n",
       "1          Closed with explanation              Yes                Yes  2015   \n",
       "2  Closed with non-monetary relief              Yes                 No  2013   \n",
       "3          Closed with explanation              Yes                 No  2016   \n",
       "4          Closed with explanation              Yes                Yes  2015   \n",
       "\n",
       "   Month  Days held  Week_Received  \n",
       "0     10          0             42  \n",
       "1      4          0             17  \n",
       "2     12         14             51  \n",
       "3      3          1              9  \n",
       "4      1          0              5  "
      ]
     },
     "execution_count": 19,
     "metadata": {},
     "output_type": "execute_result"
    }
   ],
   "source": [
    "train.head()"
   ]
  },
  {
   "cell_type": "code",
   "execution_count": 20,
   "metadata": {},
   "outputs": [
    {
     "data": {
      "text/html": [
       "<div>\n",
       "<style scoped>\n",
       "    .dataframe tbody tr th:only-of-type {\n",
       "        vertical-align: middle;\n",
       "    }\n",
       "\n",
       "    .dataframe tbody tr th {\n",
       "        vertical-align: top;\n",
       "    }\n",
       "\n",
       "    .dataframe thead th {\n",
       "        text-align: right;\n",
       "    }\n",
       "</style>\n",
       "<table border=\"1\" class=\"dataframe\">\n",
       "  <thead>\n",
       "    <tr style=\"text-align: right;\">\n",
       "      <th></th>\n",
       "      <th>Product</th>\n",
       "      <th>Issue</th>\n",
       "      <th>Company</th>\n",
       "      <th>State</th>\n",
       "      <th>Submitted via</th>\n",
       "      <th>Company response to consumer</th>\n",
       "      <th>Timely response?</th>\n",
       "      <th>Year</th>\n",
       "      <th>Month</th>\n",
       "      <th>Days held</th>\n",
       "      <th>Week_Received</th>\n",
       "    </tr>\n",
       "  </thead>\n",
       "  <tbody>\n",
       "    <tr>\n",
       "      <th>0</th>\n",
       "      <td>Credit card</td>\n",
       "      <td>Customer service / Customer relations</td>\n",
       "      <td>Citibank</td>\n",
       "      <td>TX</td>\n",
       "      <td>Web</td>\n",
       "      <td>Closed with monetary relief</td>\n",
       "      <td>Yes</td>\n",
       "      <td>2015</td>\n",
       "      <td>1</td>\n",
       "      <td>0</td>\n",
       "      <td>3</td>\n",
       "    </tr>\n",
       "    <tr>\n",
       "      <th>1</th>\n",
       "      <td>Consumer Loan</td>\n",
       "      <td>Payment to acct not credited</td>\n",
       "      <td>Larsen MacColl Partners II, L.P.</td>\n",
       "      <td>TX</td>\n",
       "      <td>Phone</td>\n",
       "      <td>Closed with explanation</td>\n",
       "      <td>Yes</td>\n",
       "      <td>2016</td>\n",
       "      <td>6</td>\n",
       "      <td>0</td>\n",
       "      <td>25</td>\n",
       "    </tr>\n",
       "    <tr>\n",
       "      <th>2</th>\n",
       "      <td>Credit card</td>\n",
       "      <td>Credit line increase/decrease</td>\n",
       "      <td>Capital One</td>\n",
       "      <td>NC</td>\n",
       "      <td>Web</td>\n",
       "      <td>Closed with explanation</td>\n",
       "      <td>Yes</td>\n",
       "      <td>2015</td>\n",
       "      <td>9</td>\n",
       "      <td>0</td>\n",
       "      <td>36</td>\n",
       "    </tr>\n",
       "    <tr>\n",
       "      <th>3</th>\n",
       "      <td>Consumer Loan</td>\n",
       "      <td>Problems when you are unable to pay</td>\n",
       "      <td>OneMain Financial Holdings, LLC</td>\n",
       "      <td>MO</td>\n",
       "      <td>Web</td>\n",
       "      <td>Closed with non-monetary relief</td>\n",
       "      <td>Yes</td>\n",
       "      <td>2016</td>\n",
       "      <td>5</td>\n",
       "      <td>3</td>\n",
       "      <td>20</td>\n",
       "    </tr>\n",
       "    <tr>\n",
       "      <th>4</th>\n",
       "      <td>Debt collection</td>\n",
       "      <td>Improper contact or sharing of info</td>\n",
       "      <td>GMA Investments, LLC</td>\n",
       "      <td>SC</td>\n",
       "      <td>Web</td>\n",
       "      <td>Closed with explanation</td>\n",
       "      <td>Yes</td>\n",
       "      <td>2016</td>\n",
       "      <td>7</td>\n",
       "      <td>0</td>\n",
       "      <td>27</td>\n",
       "    </tr>\n",
       "  </tbody>\n",
       "</table>\n",
       "</div>"
      ],
      "text/plain": [
       "           Product                                  Issue  \\\n",
       "0      Credit card  Customer service / Customer relations   \n",
       "1    Consumer Loan           Payment to acct not credited   \n",
       "2      Credit card          Credit line increase/decrease   \n",
       "3    Consumer Loan    Problems when you are unable to pay   \n",
       "4  Debt collection    Improper contact or sharing of info   \n",
       "\n",
       "                            Company State Submitted via  \\\n",
       "0                          Citibank    TX           Web   \n",
       "1  Larsen MacColl Partners II, L.P.    TX         Phone   \n",
       "2                       Capital One    NC           Web   \n",
       "3   OneMain Financial Holdings, LLC    MO           Web   \n",
       "4              GMA Investments, LLC    SC           Web   \n",
       "\n",
       "      Company response to consumer Timely response?  Year  Month  Days held  \\\n",
       "0      Closed with monetary relief              Yes  2015      1          0   \n",
       "1          Closed with explanation              Yes  2016      6          0   \n",
       "2          Closed with explanation              Yes  2015      9          0   \n",
       "3  Closed with non-monetary relief              Yes  2016      5          3   \n",
       "4          Closed with explanation              Yes  2016      7          0   \n",
       "\n",
       "   Week_Received  \n",
       "0              3  \n",
       "1             25  \n",
       "2             36  \n",
       "3             20  \n",
       "4             27  "
      ]
     },
     "execution_count": 20,
     "metadata": {},
     "output_type": "execute_result"
    }
   ],
   "source": [
    "test.head()"
   ]
  },
  {
   "cell_type": "markdown",
   "metadata": {
    "id": "A8tqx2qCpoqT"
   },
   "source": [
    "Store data of the disputed consumer in the new data frame as \"disputed_cons\""
   ]
  },
  {
   "cell_type": "code",
   "execution_count": 21,
   "metadata": {
    "id": "LIsh5bhipoqU"
   },
   "outputs": [],
   "source": [
    "disputed_cons=train[train[\"Consumer disputed?\"]==\"Yes\"]"
   ]
  },
  {
   "cell_type": "markdown",
   "metadata": {
    "id": "mtGG1fslpoqU"
   },
   "source": [
    "Plot bar graph for the total no of disputes with the help of seaborn"
   ]
  },
  {
   "cell_type": "code",
   "execution_count": 22,
   "metadata": {
    "id": "aawMOyG5poqW"
   },
   "outputs": [
    {
     "data": {
      "image/png": "[encoded data removed]",
      "text/plain": [
       "<Figure size 432x288 with 1 Axes>"
      ]
     },
     "metadata": {},
     "output_type": "display_data"
    }
   ],
   "source": [
    "sns.set_theme(style=\"whitegrid\")\n",
    "plt.title(\"Total No.of Disputed Consumers\")\n",
    "sns.countplot(x=train[\"Consumer disputed?\"])\n",
    "plt.show()"
   ]
  },
  {
   "cell_type": "markdown",
   "metadata": {
    "id": "NCZyWAkUpoqW"
   },
   "source": [
    "Plot bar graph for the total no of disputes products-wise with help of seaborn"
   ]
  },
  {
   "cell_type": "code",
   "execution_count": 23,
   "metadata": {
    "id": "CRaMA8jVpoqX"
   },
   "outputs": [
    {
     "data": {
      "image/png": "[encoded data removed]",
      "text/plain": [
       "<Figure size 576x576 with 1 Axes>"
      ]
     },
     "metadata": {},
     "output_type": "display_data"
    }
   ],
   "source": [
    "plt.figure(figsize=(8,8))\n",
    "plt.title(\"Total No.of Disputes Product-Wise\")\n",
    "sns.countplot(data=disputed_cons, y=\"Product\")\n",
    "plt.show()"
   ]
  },
  {
   "cell_type": "markdown",
   "metadata": {
    "id": "L0U3hAu4poqY"
   },
   "source": [
    "Plot bar graph for the total no of disputes with Top Issues by Highest Disputes , with help of seaborn"
   ]
  },
  {
   "cell_type": "code",
   "execution_count": 24,
   "metadata": {
    "id": "hx_k7HkYpoqY"
   },
   "outputs": [
    {
     "data": {
      "image/png": "[encoded data removed]",
      "text/plain": [
       "<Figure size 432x288 with 1 Axes>"
      ]
     },
     "metadata": {},
     "output_type": "display_data"
    }
   ],
   "source": [
    "plt.figure(figsize=(6,4))\n",
    "plt.title(\"Total No.of Disputes with Top Issues by Highest Disputes\")\n",
    "sns.countplot(data=disputed_cons, y=\"Issue\",order=disputed_cons.Issue.value_counts().iloc[:8].index)\n",
    "plt.show()"
   ]
  },
  {
   "cell_type": "markdown",
   "metadata": {
    "id": "Lnfp_e9ZpoqY"
   },
   "source": [
    "Plot bar graph for the total no of disputes by State with Maximum Disputes"
   ]
  },
  {
   "cell_type": "code",
   "execution_count": 25,
   "metadata": {
    "id": "9YieTWCtpoqZ"
   },
   "outputs": [
    {
     "data": {
      "image/png": "[encoded data removed]",
      "text/plain": [
       "<Figure size 576x288 with 1 Axes>"
      ]
     },
     "metadata": {},
     "output_type": "display_data"
    }
   ],
   "source": [
    "plt.figure(figsize=(8,4))\n",
    "plt.title(\"Total No.of Disputes by State with Maximum(Top) Disputes\")\n",
    "sns.countplot(data=disputed_cons, y=\"State\",order=disputed_cons.State.value_counts().iloc[:6].index)\n",
    "plt.show()"
   ]
  },
  {
   "cell_type": "markdown",
   "metadata": {
    "id": "GzYlsiEFpoqZ"
   },
   "source": [
    "Plot bar graph for the total no of disputes by Submitted Via diffrent source "
   ]
  },
  {
   "cell_type": "code",
   "execution_count": 26,
   "metadata": {
    "id": "ShPK2OoepoqZ"
   },
   "outputs": [
    {
     "data": {
      "image/png": "[encoded data removed]",
      "text/plain": [
       "<Figure size 432x288 with 1 Axes>"
      ]
     },
     "metadata": {},
     "output_type": "display_data"
    }
   ],
   "source": [
    "plt.figure(figsize=(6,4))\n",
    "plt.title(\"Total No.of Disputes Submitted Via different sources\")\n",
    "sns.countplot(data=disputed_cons, x=\"Submitted via\")\n",
    "plt.show()"
   ]
  },
  {
   "cell_type": "markdown",
   "metadata": {
    "id": "rl_JZPCipoqa"
   },
   "source": [
    "Plot bar graph for the total no of disputes wherevCompany's Response to the Complaints"
   ]
  },
  {
   "cell_type": "code",
   "execution_count": 27,
   "metadata": {
    "id": "2XTLjfbtpoqa"
   },
   "outputs": [
    {
     "data": {
      "image/png": "[encoded data removed]",
      "text/plain": [
       "<Figure size 432x288 with 1 Axes>"
      ]
     },
     "metadata": {},
     "output_type": "display_data"
    }
   ],
   "source": [
    "plt.figure(figsize=(6,4))\n",
    "plt.title(\"Total No.of Disputes on Company's Response to the Complaints\")\n",
    "sns.countplot(data=disputed_cons, y=\"Company response to consumer\")\n",
    "plt.show()"
   ]
  },
  {
   "cell_type": "markdown",
   "metadata": {
    "id": "pGvHtAP2poqa"
   },
   "source": [
    "Plot bar graph for the total no of disputes where Company's Response Leading to Disputes"
   ]
  },
  {
   "cell_type": "code",
   "execution_count": 28,
   "metadata": {
    "id": "4MdIaJKJpoqa"
   },
   "outputs": [
    {
     "data": {
      "image/png": "[encoded data removed]",
      "text/plain": [
       "<Figure size 576x288 with 1 Axes>"
      ]
     },
     "metadata": {},
     "output_type": "display_data"
    }
   ],
   "source": [
    "plt.figure(figsize=(8,4))\n",
    "plt.title(\"Total No.of Disputes on Company's Response to the Disputes\")\n",
    "sns.countplot(data=train, y=\"Company response to consumer\",hue=\"Consumer disputed?\")\n",
    "plt.show()"
   ]
  },
  {
   "cell_type": "markdown",
   "metadata": {
    "id": "myL-cp2Dpoqb"
   },
   "source": [
    "Plot bar graph for the total no of disputes Whether there are Disputes Instead of Timely Response"
   ]
  },
  {
   "cell_type": "code",
   "execution_count": 29,
   "metadata": {
    "id": "EyPJWgZUpoqb"
   },
   "outputs": [
    {
     "data": {
      "image/png": "[encoded data removed]",
      "text/plain": [
       "<Figure size 216x288 with 1 Axes>"
      ]
     },
     "metadata": {},
     "output_type": "display_data"
    }
   ],
   "source": [
    "plt.figure(figsize=(3,4))\n",
    "plt.title(\"Total No.of Disputes (Disputes instead of Timely Response)\")\n",
    "sns.countplot(data=disputed_cons, x=\"Timely response?\")\n",
    "plt.show()"
   ]
  },
  {
   "cell_type": "markdown",
   "metadata": {
    "id": "t91R-deppoqb"
   },
   "source": [
    "Plot bar graph for the total no of disputes over Year Wise Complaints"
   ]
  },
  {
   "cell_type": "code",
   "execution_count": 30,
   "metadata": {
    "id": "vGBscEOJpoqb"
   },
   "outputs": [
    {
     "data": {
      "image/png": "[encoded data removed]",
      "text/plain": [
       "<Figure size 576x288 with 1 Axes>"
      ]
     },
     "metadata": {},
     "output_type": "display_data"
    }
   ],
   "source": [
    "plt.figure(figsize=(8,4))\n",
    "plt.title(\"Total No.of Disputes over Year-Wise Complaints\")\n",
    "sns.countplot(data=train, x=\"Year\",hue=\"Consumer disputed?\")\n",
    "plt.show()"
   ]
  },
  {
   "cell_type": "markdown",
   "metadata": {
    "id": "xT4ZwSo0poqc"
   },
   "source": [
    "Plot bar graph for the total no of disputes over Year Wise Disputes"
   ]
  },
  {
   "cell_type": "code",
   "execution_count": 31,
   "metadata": {
    "id": "ADdy8Zavpoqc"
   },
   "outputs": [
    {
     "data": {
      "image/png": "[encoded data removed]",
      "text/plain": [
       "<Figure size 576x288 with 1 Axes>"
      ]
     },
     "metadata": {},
     "output_type": "display_data"
    }
   ],
   "source": [
    "plt.figure(figsize=(8,4))\n",
    "plt.title(\"Total No.of Disputes over Year-Wise Disputes\")\n",
    "sns.countplot(data=disputed_cons, x=\"Year\")\n",
    "plt.show()"
   ]
  },
  {
   "cell_type": "markdown",
   "metadata": {
    "id": "5pCBYQhTpoqc"
   },
   "source": [
    "Plot  bar graph for the top companies with highest complaints"
   ]
  },
  {
   "cell_type": "code",
   "execution_count": 32,
   "metadata": {
    "id": "0ovADVRSpoqc"
   },
   "outputs": [
    {
     "data": {
      "image/png": "[encoded data removed]",
      "text/plain": [
       "<Figure size 432x288 with 1 Axes>"
      ]
     },
     "metadata": {},
     "output_type": "display_data"
    }
   ],
   "source": [
    "plt.figure(figsize=(6,4))\n",
    "plt.title(\"Top Companies with Highest Complaints\")\n",
    "sns.countplot(data=train, y=\"Company\",order=train.Company.value_counts().iloc[:5].index)\n",
    "plt.show()"
   ]
  },
  {
   "cell_type": "markdown",
   "metadata": {
    "id": "d_VB1_2Qpoqc"
   },
   "source": [
    "\"Days Held\" Column Analysis(describe)"
   ]
  },
  {
   "cell_type": "code",
   "execution_count": 33,
   "metadata": {
    "id": "fan0xohapoqd"
   },
   "outputs": [
    {
     "name": "stdout",
     "output_type": "stream",
     "text": [
      "Train :\n",
      " count    358810.000000\n",
      "mean          4.456339\n",
      "std          16.741676\n",
      "min          -1.000000\n",
      "25%           0.000000\n",
      "50%           1.000000\n",
      "75%           4.000000\n",
      "max         993.000000\n",
      "Name: Days held, dtype: float64\n",
      "\n",
      "Test :\n",
      " count    119606.000000\n",
      "mean          4.443607\n",
      "std          16.233377\n",
      "min          -1.000000\n",
      "25%           0.000000\n",
      "50%           1.000000\n",
      "75%           4.000000\n",
      "max         832.000000\n",
      "Name: Days held, dtype: float64\n"
     ]
    }
   ],
   "source": [
    "print(\"Train :\\n\",train[\"Days held\"].describe())\n",
    "print(\"\\nTest :\\n\",test[\"Days held\"].describe())"
   ]
  },
  {
   "cell_type": "markdown",
   "metadata": {
    "id": "vlLBckNcpoqd"
   },
   "source": [
    "Convert Negative Days Held to Zero(it is the time taken by authority can't be negative)"
   ]
  },
  {
   "cell_type": "code",
   "execution_count": 34,
   "metadata": {
    "id": "qLPLLq6Ppoqd"
   },
   "outputs": [],
   "source": [
    "train.loc[train[\"Days held\"] < 0, \"Days held\"] = 1\n",
    "test.loc[test[\"Days held\"] < 0, \"Days held\"] = 1"
   ]
  },
  {
   "cell_type": "markdown",
   "metadata": {
    "id": "Phr6eNn6poqd"
   },
   "source": [
    "Drop Days Held with Negative Values"
   ]
  },
  {
   "cell_type": "code",
   "execution_count": 35,
   "metadata": {
    "id": "jkXWSNrxpoqd"
   },
   "outputs": [],
   "source": [
    "train= train[train[\"Days held\"]>=0]\n",
    "test= test[test[\"Days held\"]>=0]"
   ]
  },
  {
   "cell_type": "markdown",
   "metadata": {
    "id": "oPGVV2cypoqe"
   },
   "source": [
    "Text pre-processing"
   ]
  },
  {
   "cell_type": "code",
   "execution_count": 36,
   "metadata": {
    "id": "wUs9mtE-poqe"
   },
   "outputs": [],
   "source": [
    "relevant_text_train = train['Issue']\n",
    "relevant_text_test = test['Issue']\n",
    "tokenized_data_train = relevant_text_train.apply(lambda x: wordpunct_tokenize(x.lower()))\n",
    "tokenized_data_test = relevant_text_test.apply(lambda x: wordpunct_tokenize(x.lower()))\n",
    "def remove_punctuation(text):\n",
    "    no_punctuation = []\n",
    "    for w in text:\n",
    "        if w not in string.punctuation:\n",
    "            no_punctuation.append(w)\n",
    "    return no_punctuation\n",
    "no_punctuation_data_train = tokenized_data_train.apply(lambda x: remove_punctuation(x))\n",
    "no_punctuation_data_test = tokenized_data_test.apply(lambda x: remove_punctuation(x))\n",
    "stop_words = stopwords.words('english')\n",
    "filtered_sentence_train = [w for w in no_punctuation_data_train if not w in stop_words]\n",
    "filtered_sentence_train = pd.Series(filtered_sentence_train)\n",
    "filtered_sentence_test = [w for w in no_punctuation_data_test if not w in stop_words]\n",
    "filtered_sentence_test = pd.Series(filtered_sentence_test)\n",
    "def lemmatize_text(text):\n",
    "    lem_text = [WordNetLemmatizer().lemmatize(w,pos = 'v') for w in text]\n",
    "    return lem_text\n",
    "lemmatized_data_train = filtered_sentence_train.apply(lambda x:lemmatize_text(x))\n",
    "lemmatized_data_test = filtered_sentence_test.apply(lambda x:lemmatize_text(x))\n",
    "def stem_text(text):\n",
    "    stem_text = [PorterStemmer().stem(w) for w in text]\n",
    "    return stem_text\n",
    "stemmed_data_train = lemmatized_data_train.apply(lambda x:stem_text(x))\n",
    "stemmed_data_test = lemmatized_data_test.apply(lambda x:stem_text(x))\n",
    "def word_to_sentence(text):\n",
    "    text_sentence = \" \".join(text)\n",
    "    return text_sentence\n",
    "clean_data_train = stemmed_data_train.apply(lambda x:word_to_sentence(x))\n",
    "clean_data_test = stemmed_data_test.apply(lambda x:word_to_sentence(x))"
   ]
  },
  {
   "cell_type": "code",
   "execution_count": 37,
   "metadata": {
    "id": "WFlUCeGxpoqf"
   },
   "outputs": [],
   "source": [
    "train['Issues_cleaned'] = clean_data_train\n",
    "test['Issues_cleaned'] = clean_data_test\n",
    "train = train.drop('Issue', axis = 1)\n",
    "test = test.drop('Issue', axis = 1)"
   ]
  },
  {
   "cell_type": "markdown",
   "metadata": {
    "id": "7h1ZLZwSpoqg"
   },
   "source": [
    "Drop Unnecessary Columns for the Model Building<br>\n",
    "like:'Company', 'State', 'Year_Received', 'Days_held'"
   ]
  },
  {
   "cell_type": "code",
   "execution_count": 38,
   "metadata": {
    "id": "JAhztPQ9poqg"
   },
   "outputs": [],
   "source": [
    "train = train.drop(['Company', 'State', 'Year', 'Days held'], axis = 1)\n",
    "test = test.drop(['Company', 'State', 'Year', 'Days held'], axis = 1)"
   ]
  },
  {
   "cell_type": "markdown",
   "metadata": {
    "id": "MbQVqtzqpoqg"
   },
   "source": [
    "Change Consumer Disputed Column to 0 and 1(yes to 1, and no to 0)"
   ]
  },
  {
   "cell_type": "code",
   "execution_count": 39,
   "metadata": {
    "id": "rYaesKiVpoqh"
   },
   "outputs": [],
   "source": [
    "train[\"Consumer disputed?\"]=train[\"Consumer disputed?\"].map({'Yes':1 ,'No':0})"
   ]
  },
  {
   "cell_type": "markdown",
   "metadata": {
    "id": "Cf3IZk9Upoqh"
   },
   "source": [
    "Create Dummy Variables for catagorical features \n",
    "like: 'Product', 'Submitted via', 'Company response to consumer', 'Timely response?'"
   ]
  },
  {
   "cell_type": "code",
   "execution_count": 40,
   "metadata": {
    "id": "aZR2mdiIpoqh"
   },
   "outputs": [],
   "source": [
    "trainDum=pd.get_dummies(train,columns = ['Product', 'Submitted via', 'Company response to consumer', 'Timely response?','Issues_cleaned'])\n",
    "testDum=pd.get_dummies(test,columns = ['Product', 'Submitted via', 'Company response to consumer', 'Timely response?','Issues_cleaned'])"
   ]
  },
  {
   "cell_type": "markdown",
   "metadata": {
    "id": "t8hd8_Tvpoqh"
   },
   "source": [
    "Concate the Dummpy Variables and Drop the Original Columns"
   ]
  },
  {
   "cell_type": "code",
   "execution_count": 41,
   "metadata": {
    "id": "3aU54mOOpoqi"
   },
   "outputs": [],
   "source": [
    "df_train=pd.concat((train,trainDum),axis=1)\n",
    "df_test=pd.concat((test,testDum),axis=1)\n",
    "\n",
    "df_train = train.drop(['Product', 'Submitted via', 'Company response to consumer', 'Timely response?'], axis = 1)\n",
    "df_test = test.drop(['Product', 'Submitted via', 'Company response to consumer', 'Timely response?'], axis = 1)"
   ]
  },
  {
   "cell_type": "markdown",
   "metadata": {
    "id": "q49q-yVxpoqi"
   },
   "source": [
    "Calculating TF-IDF"
   ]
  },
  {
   "cell_type": "code",
   "execution_count": 42,
   "metadata": {
    "id": "xsuxLlykpoqi"
   },
   "outputs": [
    {
     "name": "stderr",
     "output_type": "stream",
     "text": [
      "/Users/jagadishvarma/opt/anaconda3/lib/python3.8/site-packages/sklearn/utils/deprecation.py:87: FutureWarning: Function get_feature_names is deprecated; get_feature_names is deprecated in 1.0 and will be removed in 1.2. Please use get_feature_names_out instead.\n",
      "  warnings.warn(msg, category=FutureWarning)\n"
     ]
    },
    {
     "data": {
      "text/html": [
       "<div>\n",
       "<style scoped>\n",
       "    .dataframe tbody tr th:only-of-type {\n",
       "        vertical-align: middle;\n",
       "    }\n",
       "\n",
       "    .dataframe tbody tr th {\n",
       "        vertical-align: top;\n",
       "    }\n",
       "\n",
       "    .dataframe thead th {\n",
       "        text-align: right;\n",
       "    }\n",
       "</style>\n",
       "<table border=\"1\" class=\"dataframe\">\n",
       "  <thead>\n",
       "    <tr style=\"text-align: right;\">\n",
       "      <th></th>\n",
       "      <th>Idf_weights</th>\n",
       "    </tr>\n",
       "  </thead>\n",
       "  <tbody>\n",
       "    <tr>\n",
       "      <th>exchang</th>\n",
       "      <td>11.998819</td>\n",
       "    </tr>\n",
       "    <tr>\n",
       "      <th>damag</th>\n",
       "      <td>11.593354</td>\n",
       "    </tr>\n",
       "    <tr>\n",
       "      <th>destroy</th>\n",
       "      <td>11.593354</td>\n",
       "    </tr>\n",
       "    <tr>\n",
       "      <th>overdraft</th>\n",
       "      <td>11.305672</td>\n",
       "    </tr>\n",
       "    <tr>\n",
       "      <th>featur</th>\n",
       "      <td>11.305672</td>\n",
       "    </tr>\n",
       "  </tbody>\n",
       "</table>\n",
       "</div>"
      ],
      "text/plain": [
       "           Idf_weights\n",
       "exchang      11.998819\n",
       "damag        11.593354\n",
       "destroy      11.593354\n",
       "overdraft    11.305672\n",
       "featur       11.305672"
      ]
     },
     "execution_count": 42,
     "metadata": {},
     "output_type": "execute_result"
    }
   ],
   "source": [
    "tf = TfidfVectorizer()\n",
    "issues_cleaned_train = tf.fit_transform(df_train['Issues_cleaned']).toarray()\n",
    "issues_cleaned_test = tf.fit_transform(df_test['Issues_cleaned']).toarray()\n",
    "tf_columns_train = []\n",
    "tf_columns_test = []\n",
    "for i in range(issues_cleaned_train.shape[1]):\n",
    "    tf_columns_train.append('Feature' + str(i+1))\n",
    "for i in range(issues_cleaned_test.shape[1]):\n",
    "    tf_columns_test.append('Feature' + str(i+1))\n",
    "issues_train = pd.DataFrame(issues_cleaned_train, columns = tf_columns_train)\n",
    "issues_test = pd.DataFrame(issues_cleaned_test, columns = tf_columns_test)\n",
    "weights = pd.DataFrame(tf.idf_, index = tf.get_feature_names(), columns = ['Idf_weights']).sort_values(by = 'Idf_weights', ascending = False)\n",
    "weights.head()"
   ]
  },
  {
   "cell_type": "markdown",
   "metadata": {
    "id": "rxPhTO_Qpoqi"
   },
   "source": [
    "Replacing Issues_cleaned by Vectorized Issues"
   ]
  },
  {
   "cell_type": "code",
   "execution_count": 43,
   "metadata": {
    "id": "ScmPUijrpoqi"
   },
   "outputs": [],
   "source": [
    "df_train =df_train.drop('Issues_cleaned', axis = 1)\n",
    "df_test = df_test.drop('Issues_cleaned', axis = 1)\n",
    "df_train = pd.concat([df_train, issues_train], axis = 1)\n",
    "df_test = pd.concat([df_test, issues_test], axis = 1)\n",
    "Feature168 = [0] * 119606\n",
    "df_test['Feature168'] = Feature168"
   ]
  },
  {
   "cell_type": "markdown",
   "metadata": {
    "id": "EwK9D-o-poqj"
   },
   "source": [
    "observe train and test datasets"
   ]
  },
  {
   "cell_type": "code",
   "execution_count": 44,
   "metadata": {
    "id": "OlTcTkPopoqj",
    "scrolled": true
   },
   "outputs": [
    {
     "data": {
      "text/html": [
       "<div>\n",
       "<style scoped>\n",
       "    .dataframe tbody tr th:only-of-type {\n",
       "        vertical-align: middle;\n",
       "    }\n",
       "\n",
       "    .dataframe tbody tr th {\n",
       "        vertical-align: top;\n",
       "    }\n",
       "\n",
       "    .dataframe thead th {\n",
       "        text-align: right;\n",
       "    }\n",
       "</style>\n",
       "<table border=\"1\" class=\"dataframe\">\n",
       "  <thead>\n",
       "    <tr style=\"text-align: right;\">\n",
       "      <th></th>\n",
       "      <th>Consumer disputed?</th>\n",
       "      <th>Month</th>\n",
       "      <th>Week_Received</th>\n",
       "      <th>Feature1</th>\n",
       "      <th>Feature2</th>\n",
       "      <th>Feature3</th>\n",
       "      <th>Feature4</th>\n",
       "      <th>Feature5</th>\n",
       "      <th>Feature6</th>\n",
       "      <th>Feature7</th>\n",
       "      <th>...</th>\n",
       "      <th>Feature159</th>\n",
       "      <th>Feature160</th>\n",
       "      <th>Feature161</th>\n",
       "      <th>Feature162</th>\n",
       "      <th>Feature163</th>\n",
       "      <th>Feature164</th>\n",
       "      <th>Feature165</th>\n",
       "      <th>Feature166</th>\n",
       "      <th>Feature167</th>\n",
       "      <th>Feature168</th>\n",
       "    </tr>\n",
       "  </thead>\n",
       "  <tbody>\n",
       "    <tr>\n",
       "      <th>0</th>\n",
       "      <td>0</td>\n",
       "      <td>10</td>\n",
       "      <td>42</td>\n",
       "      <td>0.0</td>\n",
       "      <td>0.0</td>\n",
       "      <td>0.0</td>\n",
       "      <td>0.0</td>\n",
       "      <td>0.0</td>\n",
       "      <td>0.0</td>\n",
       "      <td>0.0</td>\n",
       "      <td>...</td>\n",
       "      <td>0.0</td>\n",
       "      <td>0.0</td>\n",
       "      <td>0.000000</td>\n",
       "      <td>0.0</td>\n",
       "      <td>0.0</td>\n",
       "      <td>0.000000</td>\n",
       "      <td>0.0</td>\n",
       "      <td>0.0</td>\n",
       "      <td>0.0</td>\n",
       "      <td>0.0</td>\n",
       "    </tr>\n",
       "    <tr>\n",
       "      <th>1</th>\n",
       "      <td>1</td>\n",
       "      <td>4</td>\n",
       "      <td>17</td>\n",
       "      <td>0.0</td>\n",
       "      <td>0.0</td>\n",
       "      <td>0.0</td>\n",
       "      <td>0.0</td>\n",
       "      <td>0.0</td>\n",
       "      <td>0.0</td>\n",
       "      <td>0.0</td>\n",
       "      <td>...</td>\n",
       "      <td>0.0</td>\n",
       "      <td>0.0</td>\n",
       "      <td>0.000000</td>\n",
       "      <td>0.0</td>\n",
       "      <td>0.0</td>\n",
       "      <td>0.596349</td>\n",
       "      <td>0.0</td>\n",
       "      <td>0.0</td>\n",
       "      <td>0.0</td>\n",
       "      <td>0.0</td>\n",
       "    </tr>\n",
       "    <tr>\n",
       "      <th>2</th>\n",
       "      <td>0</td>\n",
       "      <td>12</td>\n",
       "      <td>51</td>\n",
       "      <td>0.0</td>\n",
       "      <td>0.0</td>\n",
       "      <td>0.0</td>\n",
       "      <td>0.0</td>\n",
       "      <td>0.0</td>\n",
       "      <td>0.0</td>\n",
       "      <td>0.0</td>\n",
       "      <td>...</td>\n",
       "      <td>0.0</td>\n",
       "      <td>0.0</td>\n",
       "      <td>0.000000</td>\n",
       "      <td>0.0</td>\n",
       "      <td>0.0</td>\n",
       "      <td>0.000000</td>\n",
       "      <td>0.0</td>\n",
       "      <td>0.0</td>\n",
       "      <td>0.0</td>\n",
       "      <td>0.0</td>\n",
       "    </tr>\n",
       "    <tr>\n",
       "      <th>3</th>\n",
       "      <td>0</td>\n",
       "      <td>3</td>\n",
       "      <td>9</td>\n",
       "      <td>0.0</td>\n",
       "      <td>0.0</td>\n",
       "      <td>0.0</td>\n",
       "      <td>0.0</td>\n",
       "      <td>0.0</td>\n",
       "      <td>0.0</td>\n",
       "      <td>0.0</td>\n",
       "      <td>...</td>\n",
       "      <td>0.0</td>\n",
       "      <td>0.0</td>\n",
       "      <td>0.551342</td>\n",
       "      <td>0.0</td>\n",
       "      <td>0.0</td>\n",
       "      <td>0.000000</td>\n",
       "      <td>0.0</td>\n",
       "      <td>0.0</td>\n",
       "      <td>0.0</td>\n",
       "      <td>0.0</td>\n",
       "    </tr>\n",
       "    <tr>\n",
       "      <th>4</th>\n",
       "      <td>1</td>\n",
       "      <td>1</td>\n",
       "      <td>5</td>\n",
       "      <td>0.0</td>\n",
       "      <td>0.0</td>\n",
       "      <td>0.0</td>\n",
       "      <td>0.0</td>\n",
       "      <td>0.0</td>\n",
       "      <td>0.0</td>\n",
       "      <td>0.0</td>\n",
       "      <td>...</td>\n",
       "      <td>0.0</td>\n",
       "      <td>0.0</td>\n",
       "      <td>0.551342</td>\n",
       "      <td>0.0</td>\n",
       "      <td>0.0</td>\n",
       "      <td>0.000000</td>\n",
       "      <td>0.0</td>\n",
       "      <td>0.0</td>\n",
       "      <td>0.0</td>\n",
       "      <td>0.0</td>\n",
       "    </tr>\n",
       "  </tbody>\n",
       "</table>\n",
       "<p>5 rows × 171 columns</p>\n",
       "</div>"
      ],
      "text/plain": [
       "   Consumer disputed?  Month  Week_Received  Feature1  Feature2  Feature3  \\\n",
       "0                   0     10             42       0.0       0.0       0.0   \n",
       "1                   1      4             17       0.0       0.0       0.0   \n",
       "2                   0     12             51       0.0       0.0       0.0   \n",
       "3                   0      3              9       0.0       0.0       0.0   \n",
       "4                   1      1              5       0.0       0.0       0.0   \n",
       "\n",
       "   Feature4  Feature5  Feature6  Feature7  ...  Feature159  Feature160  \\\n",
       "0       0.0       0.0       0.0       0.0  ...         0.0         0.0   \n",
       "1       0.0       0.0       0.0       0.0  ...         0.0         0.0   \n",
       "2       0.0       0.0       0.0       0.0  ...         0.0         0.0   \n",
       "3       0.0       0.0       0.0       0.0  ...         0.0         0.0   \n",
       "4       0.0       0.0       0.0       0.0  ...         0.0         0.0   \n",
       "\n",
       "   Feature161  Feature162  Feature163  Feature164  Feature165  Feature166  \\\n",
       "0    0.000000         0.0         0.0    0.000000         0.0         0.0   \n",
       "1    0.000000         0.0         0.0    0.596349         0.0         0.0   \n",
       "2    0.000000         0.0         0.0    0.000000         0.0         0.0   \n",
       "3    0.551342         0.0         0.0    0.000000         0.0         0.0   \n",
       "4    0.551342         0.0         0.0    0.000000         0.0         0.0   \n",
       "\n",
       "   Feature167  Feature168  \n",
       "0         0.0         0.0  \n",
       "1         0.0         0.0  \n",
       "2         0.0         0.0  \n",
       "3         0.0         0.0  \n",
       "4         0.0         0.0  \n",
       "\n",
       "[5 rows x 171 columns]"
      ]
     },
     "execution_count": 44,
     "metadata": {},
     "output_type": "execute_result"
    }
   ],
   "source": [
    "df_train.head()"
   ]
  },
  {
   "cell_type": "code",
   "execution_count": 45,
   "metadata": {},
   "outputs": [
    {
     "data": {
      "text/html": [
       "<div>\n",
       "<style scoped>\n",
       "    .dataframe tbody tr th:only-of-type {\n",
       "        vertical-align: middle;\n",
       "    }\n",
       "\n",
       "    .dataframe tbody tr th {\n",
       "        vertical-align: top;\n",
       "    }\n",
       "\n",
       "    .dataframe thead th {\n",
       "        text-align: right;\n",
       "    }\n",
       "</style>\n",
       "<table border=\"1\" class=\"dataframe\">\n",
       "  <thead>\n",
       "    <tr style=\"text-align: right;\">\n",
       "      <th></th>\n",
       "      <th>Month</th>\n",
       "      <th>Week_Received</th>\n",
       "      <th>Feature1</th>\n",
       "      <th>Feature2</th>\n",
       "      <th>Feature3</th>\n",
       "      <th>Feature4</th>\n",
       "      <th>Feature5</th>\n",
       "      <th>Feature6</th>\n",
       "      <th>Feature7</th>\n",
       "      <th>Feature8</th>\n",
       "      <th>...</th>\n",
       "      <th>Feature159</th>\n",
       "      <th>Feature160</th>\n",
       "      <th>Feature161</th>\n",
       "      <th>Feature162</th>\n",
       "      <th>Feature163</th>\n",
       "      <th>Feature164</th>\n",
       "      <th>Feature165</th>\n",
       "      <th>Feature166</th>\n",
       "      <th>Feature167</th>\n",
       "      <th>Feature168</th>\n",
       "    </tr>\n",
       "  </thead>\n",
       "  <tbody>\n",
       "    <tr>\n",
       "      <th>0</th>\n",
       "      <td>1</td>\n",
       "      <td>3</td>\n",
       "      <td>0.0</td>\n",
       "      <td>0.000000</td>\n",
       "      <td>0.0</td>\n",
       "      <td>0.0</td>\n",
       "      <td>0.0</td>\n",
       "      <td>0.0</td>\n",
       "      <td>0.0</td>\n",
       "      <td>0.0</td>\n",
       "      <td>...</td>\n",
       "      <td>0.0</td>\n",
       "      <td>0.0</td>\n",
       "      <td>0.000000</td>\n",
       "      <td>0.0</td>\n",
       "      <td>0.0</td>\n",
       "      <td>0.0</td>\n",
       "      <td>0.0</td>\n",
       "      <td>0.000000</td>\n",
       "      <td>0.0</td>\n",
       "      <td>0</td>\n",
       "    </tr>\n",
       "    <tr>\n",
       "      <th>1</th>\n",
       "      <td>6</td>\n",
       "      <td>25</td>\n",
       "      <td>0.0</td>\n",
       "      <td>0.753491</td>\n",
       "      <td>0.0</td>\n",
       "      <td>0.0</td>\n",
       "      <td>0.0</td>\n",
       "      <td>0.0</td>\n",
       "      <td>0.0</td>\n",
       "      <td>0.0</td>\n",
       "      <td>...</td>\n",
       "      <td>0.0</td>\n",
       "      <td>0.0</td>\n",
       "      <td>0.000000</td>\n",
       "      <td>0.0</td>\n",
       "      <td>0.0</td>\n",
       "      <td>0.0</td>\n",
       "      <td>0.0</td>\n",
       "      <td>0.000000</td>\n",
       "      <td>0.0</td>\n",
       "      <td>0</td>\n",
       "    </tr>\n",
       "    <tr>\n",
       "      <th>2</th>\n",
       "      <td>9</td>\n",
       "      <td>36</td>\n",
       "      <td>0.0</td>\n",
       "      <td>0.000000</td>\n",
       "      <td>0.0</td>\n",
       "      <td>0.0</td>\n",
       "      <td>0.0</td>\n",
       "      <td>0.0</td>\n",
       "      <td>0.0</td>\n",
       "      <td>0.0</td>\n",
       "      <td>...</td>\n",
       "      <td>0.0</td>\n",
       "      <td>0.0</td>\n",
       "      <td>0.000000</td>\n",
       "      <td>0.0</td>\n",
       "      <td>0.0</td>\n",
       "      <td>0.0</td>\n",
       "      <td>0.0</td>\n",
       "      <td>0.000000</td>\n",
       "      <td>0.0</td>\n",
       "      <td>0</td>\n",
       "    </tr>\n",
       "    <tr>\n",
       "      <th>3</th>\n",
       "      <td>5</td>\n",
       "      <td>20</td>\n",
       "      <td>0.0</td>\n",
       "      <td>0.000000</td>\n",
       "      <td>0.0</td>\n",
       "      <td>0.0</td>\n",
       "      <td>0.0</td>\n",
       "      <td>0.0</td>\n",
       "      <td>0.0</td>\n",
       "      <td>0.0</td>\n",
       "      <td>...</td>\n",
       "      <td>0.0</td>\n",
       "      <td>0.0</td>\n",
       "      <td>0.406735</td>\n",
       "      <td>0.0</td>\n",
       "      <td>0.0</td>\n",
       "      <td>0.0</td>\n",
       "      <td>0.0</td>\n",
       "      <td>0.413484</td>\n",
       "      <td>0.0</td>\n",
       "      <td>0</td>\n",
       "    </tr>\n",
       "    <tr>\n",
       "      <th>4</th>\n",
       "      <td>7</td>\n",
       "      <td>27</td>\n",
       "      <td>0.0</td>\n",
       "      <td>0.000000</td>\n",
       "      <td>0.0</td>\n",
       "      <td>0.0</td>\n",
       "      <td>0.0</td>\n",
       "      <td>0.0</td>\n",
       "      <td>0.0</td>\n",
       "      <td>0.0</td>\n",
       "      <td>...</td>\n",
       "      <td>0.0</td>\n",
       "      <td>0.0</td>\n",
       "      <td>0.000000</td>\n",
       "      <td>0.0</td>\n",
       "      <td>0.0</td>\n",
       "      <td>0.0</td>\n",
       "      <td>0.0</td>\n",
       "      <td>0.000000</td>\n",
       "      <td>0.0</td>\n",
       "      <td>0</td>\n",
       "    </tr>\n",
       "  </tbody>\n",
       "</table>\n",
       "<p>5 rows × 170 columns</p>\n",
       "</div>"
      ],
      "text/plain": [
       "   Month  Week_Received  Feature1  Feature2  Feature3  Feature4  Feature5  \\\n",
       "0      1              3       0.0  0.000000       0.0       0.0       0.0   \n",
       "1      6             25       0.0  0.753491       0.0       0.0       0.0   \n",
       "2      9             36       0.0  0.000000       0.0       0.0       0.0   \n",
       "3      5             20       0.0  0.000000       0.0       0.0       0.0   \n",
       "4      7             27       0.0  0.000000       0.0       0.0       0.0   \n",
       "\n",
       "   Feature6  Feature7  Feature8  ...  Feature159  Feature160  Feature161  \\\n",
       "0       0.0       0.0       0.0  ...         0.0         0.0    0.000000   \n",
       "1       0.0       0.0       0.0  ...         0.0         0.0    0.000000   \n",
       "2       0.0       0.0       0.0  ...         0.0         0.0    0.000000   \n",
       "3       0.0       0.0       0.0  ...         0.0         0.0    0.406735   \n",
       "4       0.0       0.0       0.0  ...         0.0         0.0    0.000000   \n",
       "\n",
       "   Feature162  Feature163  Feature164  Feature165  Feature166  Feature167  \\\n",
       "0         0.0         0.0         0.0         0.0    0.000000         0.0   \n",
       "1         0.0         0.0         0.0         0.0    0.000000         0.0   \n",
       "2         0.0         0.0         0.0         0.0    0.000000         0.0   \n",
       "3         0.0         0.0         0.0         0.0    0.413484         0.0   \n",
       "4         0.0         0.0         0.0         0.0    0.000000         0.0   \n",
       "\n",
       "   Feature168  \n",
       "0           0  \n",
       "1           0  \n",
       "2           0  \n",
       "3           0  \n",
       "4           0  \n",
       "\n",
       "[5 rows x 170 columns]"
      ]
     },
     "execution_count": 45,
     "metadata": {},
     "output_type": "execute_result"
    }
   ],
   "source": [
    "df_test.head()"
   ]
  },
  {
   "cell_type": "markdown",
   "metadata": {
    "id": "7xGU-cPapoqj"
   },
   "source": [
    "Observe Shape of new Train and Test Datasets"
   ]
  },
  {
   "cell_type": "code",
   "execution_count": 46,
   "metadata": {
    "id": "79J9Tqjzpoqj"
   },
   "outputs": [
    {
     "name": "stdout",
     "output_type": "stream",
     "text": [
      "Train : (358810, 171)\n",
      "Test : (119606, 170)\n"
     ]
    }
   ],
   "source": [
    "print(\"Train :\",df_train.shape)\n",
    "print(\"Test :\",df_test.shape)"
   ]
  },
  {
   "cell_type": "markdown",
   "metadata": {
    "id": "P1IKPOYzpoqk"
   },
   "source": [
    "Scaling the Data Sets (note:discard dependent variable before doing standardization)"
   ]
  },
  {
   "cell_type": "code",
   "execution_count": 47,
   "metadata": {
    "id": "PoxQshrppoqk"
   },
   "outputs": [
    {
     "data": {
      "text/plain": [
       "array([[-0.45406238, -0.02941366, -0.10672633, ..., -0.02696087,\n",
       "        -0.11129436, -0.08000387],\n",
       "       [-0.45406238, -0.02941366, -0.10672633, ..., -0.02696087,\n",
       "        -0.11129436, -0.08000387],\n",
       "       [-0.45406238, -0.02941366, -0.10672633, ..., -0.02696087,\n",
       "        -0.11129436, -0.08000387],\n",
       "       ...,\n",
       "       [-0.45406238, -0.02941366, -0.10672633, ..., -0.02696087,\n",
       "        -0.11129436, -0.08000387],\n",
       "       [-0.45406238, -0.02941366, -0.10672633, ..., -0.02696087,\n",
       "        -0.11129436, -0.08000387],\n",
       "       [-0.45406238, -0.02941366, -0.10672633, ..., -0.02696087,\n",
       "        -0.11129436, -0.08000387]])"
      ]
     },
     "execution_count": 47,
     "metadata": {},
     "output_type": "execute_result"
    }
   ],
   "source": [
    "from sklearn.preprocessing import StandardScaler\n",
    "std_scaler=StandardScaler()\n",
    "scaled_data=std_scaler.fit_transform(df_train.iloc[:, 3:])\n",
    "scaled_data"
   ]
  },
  {
   "cell_type": "code",
   "execution_count": 48,
   "metadata": {},
   "outputs": [
    {
     "data": {
      "text/plain": [
       "array([[-4.57585643e-01, -2.73163203e-02, -1.06162777e-01, ...,\n",
       "        -1.13869816e-01, -7.70568805e-02,  0.00000000e+00],\n",
       "       [-4.57585643e-01,  4.12954463e+01, -1.06162777e-01, ...,\n",
       "        -1.13869816e-01, -7.70568805e-02,  0.00000000e+00],\n",
       "       [-4.57585643e-01, -2.73163203e-02, -1.06162777e-01, ...,\n",
       "        -1.13869816e-01, -7.70568805e-02,  0.00000000e+00],\n",
       "       ...,\n",
       "       [-4.57585643e-01, -2.73163203e-02, -1.06162777e-01, ...,\n",
       "        -1.13869816e-01, -7.70568805e-02,  0.00000000e+00],\n",
       "       [-4.57585643e-01, -2.73163203e-02, -1.06162777e-01, ...,\n",
       "        -1.13869816e-01, -7.70568805e-02,  0.00000000e+00],\n",
       "       [-4.57585643e-01, -2.73163203e-02, -1.06162777e-01, ...,\n",
       "        -1.13869816e-01, -7.70568805e-02,  0.00000000e+00]])"
      ]
     },
     "execution_count": 48,
     "metadata": {},
     "output_type": "execute_result"
    }
   ],
   "source": [
    "from sklearn.preprocessing import StandardScaler\n",
    "std_scaler_test=StandardScaler()\n",
    "scaled_data_test=std_scaler.fit_transform(df_test.iloc[:, 2:])\n",
    "scaled_data_test"
   ]
  },
  {
   "cell_type": "markdown",
   "metadata": {
    "id": "10Pj03fYpoqk"
   },
   "source": [
    "Do feature selection with help of PCA"
   ]
  },
  {
   "cell_type": "code",
   "execution_count": 49,
   "metadata": {
    "id": "I7ULlKu7poqk"
   },
   "outputs": [],
   "source": [
    "from sklearn.decomposition import PCA\n",
    "pca = PCA(n_components=53)\n",
    "principalComponents = pca.fit_transform(scaled_data)"
   ]
  },
  {
   "cell_type": "code",
   "execution_count": 50,
   "metadata": {},
   "outputs": [],
   "source": [
    "from sklearn.decomposition import PCA\n",
    "pca_test = PCA(n_components=53)\n",
    "principalComponents_test = pca_test.fit_transform(scaled_data_test)"
   ]
  },
  {
   "cell_type": "markdown",
   "metadata": {
    "id": "Su_M3P3npoqk"
   },
   "source": [
    "Select top features which are covering 80% of the information \n",
    "(n=53),\n",
    "<br>store this data into new dataframe,"
   ]
  },
  {
   "cell_type": "code",
   "execution_count": 51,
   "metadata": {
    "id": "2_FVX5N6poql"
   },
   "outputs": [],
   "source": [
    "principalDf = pd.DataFrame(data = principalComponents)"
   ]
  },
  {
   "cell_type": "code",
   "execution_count": 52,
   "metadata": {},
   "outputs": [],
   "source": [
    "principalDf_test = pd.DataFrame(data = principalComponents_test)"
   ]
  },
  {
   "cell_type": "markdown",
   "metadata": {
    "id": "xfPdNUxBpoql"
   },
   "source": [
    "Split the Data Sets Into X and Y by dependent and independent variables (data selected by PCA)\n"
   ]
  },
  {
   "cell_type": "code",
   "execution_count": 53,
   "metadata": {
    "id": "ktXK9RIOpoqm"
   },
   "outputs": [],
   "source": [
    "X=principalDf\n",
    "y=df_train['Consumer disputed?']"
   ]
  },
  {
   "cell_type": "markdown",
   "metadata": {
    "id": "4liyt_jZpoqm"
   },
   "source": [
    "Split data into Train and Test datasets\n",
    "(for test data use test excel file data)"
   ]
  },
  {
   "cell_type": "code",
   "execution_count": 54,
   "metadata": {
    "id": "-ZmGXmwjpoqn"
   },
   "outputs": [],
   "source": [
    "from sklearn.model_selection import train_test_split\n",
    "X_train, X_val, y_train, y_val = train_test_split(X, y, test_size=0.25, random_state=42)\n",
    "X_test=pd.read_csv(\"Consumer_Complaints_test.csv\")"
   ]
  },
  {
   "cell_type": "markdown",
   "metadata": {
    "id": "hCl_eDoMpoqn"
   },
   "source": [
    "Shapes of the datasets"
   ]
  },
  {
   "cell_type": "code",
   "execution_count": 55,
   "metadata": {
    "id": "JMK5Jk7opoqo"
   },
   "outputs": [
    {
     "data": {
      "text/plain": [
       "((269107, 53), (89703, 53), (269107,), (89703,), (119606, 17))"
      ]
     },
     "execution_count": 55,
     "metadata": {},
     "output_type": "execute_result"
    }
   ],
   "source": [
    "X_train.shape, X_val.shape, y_train.shape, y_val.shape, X_test.shape"
   ]
  },
  {
   "cell_type": "markdown",
   "metadata": {
    "id": "L6d3W9nbpoqp"
   },
   "source": [
    "**Model building**\n",
    "Build given models and mesure their test and validation accuracy \n",
    "build given models:\n",
    "1. LogisticRegression\n",
    "2. DecisionTreeClassifier\n",
    "3. RandomForestClassifier\n",
    "4. AdaBoostClassifier\n",
    "5. GradientBoostingClassifier\n",
    "6. KNeighborsClassifier\n",
    "7. XGBClassifier"
   ]
  },
  {
   "cell_type": "code",
   "execution_count": 56,
   "metadata": {
    "id": "WXgaZSqlpoqq"
   },
   "outputs": [],
   "source": [
    "#Logistic Regression\n",
    "lr=LogisticRegression(random_state=5).fit(X_train,y_train)\n",
    "lr_pred=lr.predict(X_val)\n",
    "\n",
    "#Decision Tree Classifier\n",
    "dtc=DecisionTreeClassifier(random_state=42).fit(X_train,y_train)\n",
    "dtc_pred=dtc.predict(X_val)\n",
    "\n",
    "#Random Forest Classifier\n",
    "rfc=RandomForestClassifier(random_state=42).fit(X_train,y_train)\n",
    "rfc_pred=rfc.predict(X_val)\n",
    "\n",
    "#AdaBostClassifier\n",
    "ada=AdaBoostClassifier(n_estimators=53,learning_rate=0.6)\n",
    "ada.fit(X_train,y_train)\n",
    "ada_pred=ada.predict(X_val)\n",
    "\n",
    "#GradientBoosting Classifier\n",
    "gb_clf=GradientBoostingClassifier(learning_rate=0.6,n_estimators=53)\n",
    "gb_clf.fit(X_train,y_train)\n",
    "gb_pred=gb_clf.predict(X_val)\n",
    "\n",
    "#KNN Classifier\n",
    "knn=KNeighborsClassifier().fit(X_train,y_train)\n",
    "knn_pred=knn.predict(X_val)\n",
    "\n",
    "#XGBClassifier\n",
    "xb_clf=XGBClassifier(learning_rate=0.5,n_estimators=53)\n",
    "xb_clf.fit(X_train,y_train)\n",
    "xb_pred=xb_clf.predict(X_val)\n"
   ]
  },
  {
   "cell_type": "code",
   "execution_count": 57,
   "metadata": {},
   "outputs": [
    {
     "name": "stdout",
     "output_type": "stream",
     "text": [
      "-------Accuracy Scores----- \n",
      "Logistic Regression        :        0.78792\n",
      "Decision Tree              :        0.78792\n",
      "RandomForestClassifier     :        0.78792\n",
      "AdaBoost Classifier        :        0.78792\n",
      "GradientBoostingClassifier :        0.78792\n",
      "KNearestNeighbors          :        0.76815\n",
      "RXGB Classifier            :        0.78792\n"
     ]
    }
   ],
   "source": [
    "print(\"-------Accuracy Scores----- \")\n",
    "print(\"Logistic Regression        :       \",round(accuracy_score(y_val,lr_pred),5))\n",
    "print(\"Decision Tree              :       \",round(accuracy_score(y_val,dtc_pred),5))\n",
    "print(\"RandomForestClassifier     :       \",round(accuracy_score(y_val,rfc_pred),5))\n",
    "print(\"AdaBoost Classifier        :       \",round(accuracy_score(y_val,ada_pred),5))\n",
    "print(\"GradientBoostingClassifier :       \",round(accuracy_score(y_val,gb_pred),5))\n",
    "print(\"KNearestNeighbors          :       \",round(accuracy_score(y_val,knn_pred),5))\n",
    "print(\"RXGB Classifier            :       \",round(accuracy_score(y_val,xb_pred),5))"
   ]
  },
  {
   "cell_type": "markdown",
   "metadata": {
    "id": "NBfwkKjwpoqr"
   },
   "source": [
    "Final Model and Prediction for test data file"
   ]
  },
  {
   "cell_type": "code",
   "execution_count": 58,
   "metadata": {
    "id": "J1mL-GJ2poqr"
   },
   "outputs": [],
   "source": [
    "predictions=rfc.predict(principalDf_test)"
   ]
  },
  {
   "cell_type": "markdown",
   "metadata": {
    "id": "QEMqjpS5poqr"
   },
   "source": [
    "Export Predictions to CSV"
   ]
  },
  {
   "cell_type": "code",
   "execution_count": 61,
   "metadata": {
    "id": "MKDCpggppoqr"
   },
   "outputs": [],
   "source": [
    "X_test[\"Prediction\"]=predictions"
   ]
  },
  {
   "cell_type": "code",
   "execution_count": 62,
   "metadata": {},
   "outputs": [],
   "source": [
    "X_test.to_csv(\"Final.csv\",index=False)"
   ]
  },
  {
   "cell_type": "markdown",
   "metadata": {},
   "source": [
    "--------------The End----------------"
   ]
  }
 ],
 "metadata": {
  "colab": {
   "collapsed_sections": [],
   "name": "consumer complaint resolution question file.ipynb",
   "provenance": []
  },
  "kernelspec": {
   "display_name": "Python 3 (ipykernel)",
   "language": "python",
   "name": "python3"
  },
  "language_info": {
   "codemirror_mode": {
    "name": "ipython",
    "version": 3
   },
   "file_extension": ".py",
   "mimetype": "text/x-python",
   "name": "python",
   "nbconvert_exporter": "python",
   "pygments_lexer": "ipython3",
   "version": "3.9.7"
  }
 },
 "nbformat": 4,
 "nbformat_minor": 1
}
